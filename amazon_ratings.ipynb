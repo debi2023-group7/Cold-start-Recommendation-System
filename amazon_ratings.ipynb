{
 "cells": [
  {
   "cell_type": "markdown",
   "id": "982b7b7d",
   "metadata": {},
   "source": [
    "## **About Dataset**"
   ]
  },
  {
   "cell_type": "markdown",
   "id": "7600b0b8",
   "metadata": {},
   "source": [
    "**Context**\n",
    "\n",
    "- This notebook's goal is to create a product recommendation system for Amazon's items. Amazon and other online e-commerce platforms rely heavily on recommendation algorithms to deliver personalised product recommendations to its consumers. These systems analyse user behaviour, purchase history, and preferences to make accurate and relevant suggestions, improving the user experience and boosting sales.\n",
    "\n",
    "- In this project, I'll be using a dataset from the Amazon Reviews data source. The dataset has four main attributes: UserID, ProductID, Rating, and Timestamp. The UserID is a one-of-a-kind identifier for each person, whereas the ProductID is a one-of-a-kind identifier for each product. The Rating property represents the rating given by a certain user for a particular product. Finally, the timestamp element keeps track of when the rating was supplied.\n",
    "\n",
    "- We will utilise advanced approaches such as collaborative filtering to construct the recommendation model, which discovers patterns and similarities between people and things to provide personalised suggestions. Collaborative filtering compares users' prior behaviour, such as purchases and reviews, to comparable users and their interests, resulting in a suggestion list based on these matches.\n",
    "\n",
    "- The project's goal is to create a strong and efficient recommendation engine capable of handling the massive quantity of data accessible on Amazon's electrical items. Amazon may utilise this technology to deliver personalised and relevant recommendations to its users, resulting in better customer satisfaction and perhaps higher sales.\n",
    "\n",
    "\n",
    "**Content**\n",
    "\n",
    "This is a dataset related to over 2 Million customer reviews and ratings of Beauty related products sold on their website, it is from kaggle: https://www.kaggle.com/datasets/skillsmuggler/amazon-ratings.\n",
    "\n",
    "It contains:\n",
    "\n",
    "- The unique UserId (Customer Identification).\n",
    "- The product ASIN (Amazon's unique product identification code for each product).\n",
    "- Ratings (ranging from 1-5 based on customer satisfaction).\n",
    "- The Timestamp of the rating (in UNIX time)."
   ]
  },
  {
   "cell_type": "markdown",
   "id": "c7b922f7",
   "metadata": {},
   "source": [
    "## **Import Libraries**"
   ]
  },
  {
   "cell_type": "markdown",
   "id": "175d96b3",
   "metadata": {},
   "source": [
    "For this task, we need to import numpy, pandas, seaborn, matplotlib.\n",
    "\n",
    "- NumPy to perform a mathematical operations on arrays.\n",
    "\n",
    "- Pandas to read the data and analysis it.\n",
    "\n",
    "- Seaborn to make statistical graphics.\n",
    "\n",
    "- Matplotlib to visualize data.\n",
    "\n",
    "- Sklearn to make statistical modeling."
   ]
  },
  {
   "cell_type": "code",
   "execution_count": 1,
   "id": "d1d54214",
   "metadata": {
    "papermill": {
     "duration": 0.03896,
     "end_time": "2021-10-04T12:29:47.619585",
     "exception": false,
     "start_time": "2021-10-04T12:29:47.580625",
     "status": "completed"
    },
    "tags": []
   },
   "outputs": [],
   "source": [
    "# import needed libraries\n",
    "import numpy as np \n",
    "import pandas as pd \n",
    "import seaborn as sns\n",
    "import matplotlib.pyplot as plt \n",
    "import sklearn\n",
    "from sklearn.decomposition import TruncatedSVD\n",
    "import random\n",
    "\n",
    "# %matplotlib inline\n",
    "plt.style.use(\"fivethirtyeight\")\n",
    "import plotly.graph_objects as go\n",
    "\n",
    "# the following code ensures that you can see your (print) results for multiple tasks within a coding block\n",
    "from IPython.core.interactiveshell import InteractiveShell\n",
    "InteractiveShell.ast_node_interactivity = \"all\""
   ]
  },
  {
   "cell_type": "markdown",
   "id": "3fe6288b",
   "metadata": {},
   "source": [
    "## **Read The Dataset**"
   ]
  },
  {
   "cell_type": "markdown",
   "id": "c5fc90d3",
   "metadata": {},
   "source": [
    "To read the datasets, we used the read csv function from pandas."
   ]
  },
  {
   "cell_type": "code",
   "execution_count": 2,
   "id": "31b5f864",
   "metadata": {
    "papermill": {
     "duration": 3.35399,
     "end_time": "2021-10-04T12:29:50.997300",
     "exception": false,
     "start_time": "2021-10-04T12:29:47.643310",
     "status": "completed"
    },
    "tags": []
   },
   "outputs": [],
   "source": [
    "# load the dataset\n",
    "amzn_ratings = pd.read_csv('Tenrec/ratings_Beauty.csv')"
   ]
  },
  {
   "cell_type": "markdown",
   "id": "7da4d111",
   "metadata": {},
   "source": [
    "## **Data Exploration and Cleaning**"
   ]
  },
  {
   "cell_type": "markdown",
   "id": "ebf1ebc7",
   "metadata": {},
   "source": [
    "Before the data is processed, an exploratory data analysis phase is performed to analyse the data, find patterns, and test assumptions using statistical summaries and graphical plots. \n",
    "\n",
    "It contains:\n",
    "\n",
    "- The head and tail of the dataframes.\n",
    "\n",
    "- The size and shape of the dataframes. \n",
    "\n",
    "- The different data types of features.\n",
    "\n",
    "- Extract useful informations or relations between columns or dataframes. \n",
    "\n",
    "- Check for duplicates and remove them.\n",
    "\n",
    "- Check for null values and handling them. \n",
    "\n",
    "- Show the column's distribution."
   ]
  },
  {
   "cell_type": "code",
   "execution_count": 3,
   "id": "1853a807",
   "metadata": {},
   "outputs": [
    {
     "data": {
      "text/html": [
       "<div>\n",
       "<style scoped>\n",
       "    .dataframe tbody tr th:only-of-type {\n",
       "        vertical-align: middle;\n",
       "    }\n",
       "\n",
       "    .dataframe tbody tr th {\n",
       "        vertical-align: top;\n",
       "    }\n",
       "\n",
       "    .dataframe thead th {\n",
       "        text-align: right;\n",
       "    }\n",
       "</style>\n",
       "<table border=\"1\" class=\"dataframe\">\n",
       "  <thead>\n",
       "    <tr style=\"text-align: right;\">\n",
       "      <th></th>\n",
       "      <th>UserId</th>\n",
       "      <th>ProductId</th>\n",
       "      <th>Rating</th>\n",
       "      <th>Timestamp</th>\n",
       "    </tr>\n",
       "  </thead>\n",
       "  <tbody>\n",
       "    <tr>\n",
       "      <th>0</th>\n",
       "      <td>A39HTATAQ9V7YF</td>\n",
       "      <td>0205616461</td>\n",
       "      <td>5.0</td>\n",
       "      <td>1369699200</td>\n",
       "    </tr>\n",
       "    <tr>\n",
       "      <th>1</th>\n",
       "      <td>A3JM6GV9MNOF9X</td>\n",
       "      <td>0558925278</td>\n",
       "      <td>3.0</td>\n",
       "      <td>1355443200</td>\n",
       "    </tr>\n",
       "    <tr>\n",
       "      <th>2</th>\n",
       "      <td>A1Z513UWSAAO0F</td>\n",
       "      <td>0558925278</td>\n",
       "      <td>5.0</td>\n",
       "      <td>1404691200</td>\n",
       "    </tr>\n",
       "    <tr>\n",
       "      <th>3</th>\n",
       "      <td>A1WMRR494NWEWV</td>\n",
       "      <td>0733001998</td>\n",
       "      <td>4.0</td>\n",
       "      <td>1382572800</td>\n",
       "    </tr>\n",
       "    <tr>\n",
       "      <th>4</th>\n",
       "      <td>A3IAAVS479H7M7</td>\n",
       "      <td>0737104473</td>\n",
       "      <td>1.0</td>\n",
       "      <td>1274227200</td>\n",
       "    </tr>\n",
       "  </tbody>\n",
       "</table>\n",
       "</div>"
      ],
      "text/plain": [
       "           UserId   ProductId  Rating   Timestamp\n",
       "0  A39HTATAQ9V7YF  0205616461     5.0  1369699200\n",
       "1  A3JM6GV9MNOF9X  0558925278     3.0  1355443200\n",
       "2  A1Z513UWSAAO0F  0558925278     5.0  1404691200\n",
       "3  A1WMRR494NWEWV  0733001998     4.0  1382572800\n",
       "4  A3IAAVS479H7M7  0737104473     1.0  1274227200"
      ]
     },
     "execution_count": 3,
     "metadata": {},
     "output_type": "execute_result"
    },
    {
     "data": {
      "text/html": [
       "<div>\n",
       "<style scoped>\n",
       "    .dataframe tbody tr th:only-of-type {\n",
       "        vertical-align: middle;\n",
       "    }\n",
       "\n",
       "    .dataframe tbody tr th {\n",
       "        vertical-align: top;\n",
       "    }\n",
       "\n",
       "    .dataframe thead th {\n",
       "        text-align: right;\n",
       "    }\n",
       "</style>\n",
       "<table border=\"1\" class=\"dataframe\">\n",
       "  <thead>\n",
       "    <tr style=\"text-align: right;\">\n",
       "      <th></th>\n",
       "      <th>UserId</th>\n",
       "      <th>ProductId</th>\n",
       "      <th>Rating</th>\n",
       "      <th>Timestamp</th>\n",
       "    </tr>\n",
       "  </thead>\n",
       "  <tbody>\n",
       "    <tr>\n",
       "      <th>2023065</th>\n",
       "      <td>A3DEHKPFANB8VA</td>\n",
       "      <td>B00LORWRJA</td>\n",
       "      <td>5.0</td>\n",
       "      <td>1405296000</td>\n",
       "    </tr>\n",
       "    <tr>\n",
       "      <th>2023066</th>\n",
       "      <td>A3DEHKPFANB8VA</td>\n",
       "      <td>B00LOS7MEE</td>\n",
       "      <td>5.0</td>\n",
       "      <td>1405296000</td>\n",
       "    </tr>\n",
       "    <tr>\n",
       "      <th>2023067</th>\n",
       "      <td>AG9TJLJUN5OM3</td>\n",
       "      <td>B00LP2YB8E</td>\n",
       "      <td>5.0</td>\n",
       "      <td>1405382400</td>\n",
       "    </tr>\n",
       "    <tr>\n",
       "      <th>2023068</th>\n",
       "      <td>AYBIB14QOI9PC</td>\n",
       "      <td>B00LPVG6V0</td>\n",
       "      <td>5.0</td>\n",
       "      <td>1405555200</td>\n",
       "    </tr>\n",
       "    <tr>\n",
       "      <th>2023069</th>\n",
       "      <td>A1PB6OT0OOPKNQ</td>\n",
       "      <td>B00LU0LTOU</td>\n",
       "      <td>5.0</td>\n",
       "      <td>1405641600</td>\n",
       "    </tr>\n",
       "  </tbody>\n",
       "</table>\n",
       "</div>"
      ],
      "text/plain": [
       "                 UserId   ProductId  Rating   Timestamp\n",
       "2023065  A3DEHKPFANB8VA  B00LORWRJA     5.0  1405296000\n",
       "2023066  A3DEHKPFANB8VA  B00LOS7MEE     5.0  1405296000\n",
       "2023067   AG9TJLJUN5OM3  B00LP2YB8E     5.0  1405382400\n",
       "2023068   AYBIB14QOI9PC  B00LPVG6V0     5.0  1405555200\n",
       "2023069  A1PB6OT0OOPKNQ  B00LU0LTOU     5.0  1405641600"
      ]
     },
     "execution_count": 3,
     "metadata": {},
     "output_type": "execute_result"
    }
   ],
   "source": [
    "# show the top 5 and last 5 of dataset\n",
    "amzn_ratings.head()\n",
    "amzn_ratings.tail()"
   ]
  },
  {
   "cell_type": "code",
   "execution_count": 4,
   "id": "5cc5d2f2",
   "metadata": {
    "papermill": {
     "duration": 0.02915,
     "end_time": "2021-10-04T12:29:51.048579",
     "exception": false,
     "start_time": "2021-10-04T12:29:51.019429",
     "status": "completed"
    },
    "tags": []
   },
   "outputs": [
    {
     "data": {
      "text/plain": [
       "(2023070, 4)"
      ]
     },
     "execution_count": 4,
     "metadata": {},
     "output_type": "execute_result"
    }
   ],
   "source": [
    "# check for the shape of dataset\n",
    "amzn_ratings.shape"
   ]
  },
  {
   "cell_type": "markdown",
   "id": "5ca5632b",
   "metadata": {},
   "source": [
    "From the shape, we can notice that our dataset has 2023070 samples and 4 feauters."
   ]
  },
  {
   "cell_type": "code",
   "execution_count": 5,
   "id": "7129a030",
   "metadata": {
    "papermill": {
     "duration": 0.044883,
     "end_time": "2021-10-04T12:29:51.114455",
     "exception": false,
     "start_time": "2021-10-04T12:29:51.069572",
     "status": "completed"
    },
    "tags": []
   },
   "outputs": [
    {
     "name": "stdout",
     "output_type": "stream",
     "text": [
      "<class 'pandas.core.frame.DataFrame'>\n",
      "RangeIndex: 2023070 entries, 0 to 2023069\n",
      "Data columns (total 4 columns):\n",
      " #   Column     Dtype  \n",
      "---  ------     -----  \n",
      " 0   UserId     object \n",
      " 1   ProductId  object \n",
      " 2   Rating     float64\n",
      " 3   Timestamp  int64  \n",
      "dtypes: float64(1), int64(1), object(2)\n",
      "memory usage: 61.7+ MB\n"
     ]
    }
   ],
   "source": [
    "# show information about dataset (the feature types, missing values, size, and memory usage)\n",
    "amzn_ratings.info()"
   ]
  },
  {
   "cell_type": "markdown",
   "id": "47e0c0e4",
   "metadata": {},
   "source": [
    "The dataset has three data types which are object, float64, and int64."
   ]
  },
  {
   "cell_type": "code",
   "execution_count": 6,
   "id": "7d1cc73a",
   "metadata": {
    "papermill": {
     "duration": 0.496699,
     "end_time": "2021-10-04T12:29:51.677058",
     "exception": false,
     "start_time": "2021-10-04T12:29:51.180359",
     "status": "completed"
    },
    "scrolled": true,
    "tags": []
   },
   "outputs": [
    {
     "data": {
      "text/plain": [
       "UserId       0\n",
       "ProductId    0\n",
       "Rating       0\n",
       "Timestamp    0\n",
       "dtype: int64"
      ]
     },
     "execution_count": 6,
     "metadata": {},
     "output_type": "execute_result"
    }
   ],
   "source": [
    "# check for missing values\n",
    "amzn_ratings.isnull().sum()"
   ]
  },
  {
   "cell_type": "code",
   "execution_count": 7,
   "id": "43a79e92",
   "metadata": {
    "papermill": {
     "duration": 1.409416,
     "end_time": "2021-10-04T12:29:53.108449",
     "exception": false,
     "start_time": "2021-10-04T12:29:51.699033",
     "status": "completed"
    },
    "tags": []
   },
   "outputs": [
    {
     "data": {
      "text/plain": [
       "0"
      ]
     },
     "execution_count": 7,
     "metadata": {},
     "output_type": "execute_result"
    }
   ],
   "source": [
    "# check for duplicates\n",
    "amzn_ratings.duplicated().sum()"
   ]
  },
  {
   "cell_type": "markdown",
   "id": "67fa7f66",
   "metadata": {},
   "source": [
    "Tha dataset is clean with no missing values and no duplicates."
   ]
  },
  {
   "cell_type": "code",
   "execution_count": 8,
   "id": "7c9e5c01",
   "metadata": {
    "papermill": {
     "duration": 0.648168,
     "end_time": "2021-10-04T12:29:53.824838",
     "exception": false,
     "start_time": "2021-10-04T12:29:53.176670",
     "status": "completed"
    },
    "tags": []
   },
   "outputs": [
    {
     "name": "stdout",
     "output_type": "stream",
     "text": [
      "Unique number of users equals  1210271\n",
      "Unique number of products equals  249274\n",
      "Unique number of ratings equals  2023070\n"
     ]
    }
   ],
   "source": [
    "# display the number of users ,products ,and the total ratings \n",
    "print('Unique number of users equals ',len(amzn_ratings.UserId.unique()))\n",
    "print('Unique number of products equals ',len(amzn_ratings.ProductId.unique()))\n",
    "print('Unique number of ratings equals ',amzn_ratings.shape[0])"
   ]
  },
  {
   "cell_type": "markdown",
   "id": "f9ba1bde",
   "metadata": {},
   "source": [
    "### **Let's explore the products:**"
   ]
  },
  {
   "cell_type": "code",
   "execution_count": 9,
   "id": "b9beb460",
   "metadata": {
    "papermill": {
     "duration": 0.643268,
     "end_time": "2021-10-04T12:29:54.858584",
     "exception": false,
     "start_time": "2021-10-04T12:29:54.215316",
     "status": "completed"
    },
    "tags": []
   },
   "outputs": [
    {
     "data": {
      "text/plain": [
       "ProductId\n",
       "B001MA0QY2    7533\n",
       "B0009V1YR8    2869\n",
       "B0043OYFKU    2477\n",
       "B0000YUXI0    2143\n",
       "B003V265QW    2088\n",
       "              ... \n",
       "B004U81OBC       1\n",
       "B004U7R0EI       1\n",
       "B004U7Q2O2       1\n",
       "B004U7NKRE       1\n",
       "B00LU0LTOU       1\n",
       "Name: Rating, Length: 249274, dtype: int64"
      ]
     },
     "execution_count": 9,
     "metadata": {},
     "output_type": "execute_result"
    }
   ],
   "source": [
    "# display the number of ratings per product\n",
    "ratings_per_product = amzn_ratings.groupby('ProductId')['Rating'].count()\n",
    "ratings_per_product.sort_values(ascending=False)"
   ]
  },
  {
   "cell_type": "markdown",
   "id": "c7893841",
   "metadata": {},
   "source": [
    "- The highest productID is **B001MA0QY2** with 7533 ratings. \n",
    "\n",
    "- There is a group of products with rating of 1, such as **B004U81OBC**, **B004U7R0EI**, **B004U7Q2O2**, **B004U7NKRE**, and **B00LU0LTOU**."
   ]
  },
  {
   "cell_type": "code",
   "execution_count": 10,
   "id": "72ffe36a",
   "metadata": {
    "papermill": {
     "duration": 0.462284,
     "end_time": "2021-10-04T12:30:00.298433",
     "exception": false,
     "start_time": "2021-10-04T12:29:59.836149",
     "status": "completed"
    },
    "tags": []
   },
   "outputs": [
    {
     "data": {
      "text/plain": [
       "0.8056636472315605"
      ]
     },
     "execution_count": 10,
     "metadata": {},
     "output_type": "execute_result"
    }
   ],
   "source": [
    "# display the percentage of the products with rate 5\n",
    "len(amzn_ratings[amzn_ratings.Rating==5]['ProductId'].unique())/len(amzn_ratings['ProductId'].unique())"
   ]
  },
  {
   "cell_type": "markdown",
   "id": "b98d5914",
   "metadata": {},
   "source": [
    "80% of the products have a rate of 5, which is high percentage."
   ]
  },
  {
   "cell_type": "code",
   "execution_count": 11,
   "id": "b905f2cc",
   "metadata": {},
   "outputs": [
    {
     "data": {
      "text/plain": [
       "<Axes: xlabel='Rating', ylabel='count'>"
      ]
     },
     "execution_count": 11,
     "metadata": {},
     "output_type": "execute_result"
    },
    {
     "data": {
      "image/png": "[encoded data removed]",
      "text/plain": [
       "<Figure size 640x480 with 1 Axes>"
      ]
     },
     "metadata": {},
     "output_type": "display_data"
    }
   ],
   "source": [
    "# display the number of each rating graphically\n",
    "sns.countplot(x='Rating',data=amzn_ratings) "
   ]
  },
  {
   "cell_type": "markdown",
   "id": "8b012acf",
   "metadata": {},
   "source": [
    "The lowest rating is 2, which I did not expect."
   ]
  },
  {
   "cell_type": "code",
   "execution_count": 12,
   "id": "2845157e",
   "metadata": {
    "papermill": {
     "duration": 4.836089,
     "end_time": "2021-10-04T12:29:59.765199",
     "exception": false,
     "start_time": "2021-10-04T12:29:54.929110",
     "status": "completed"
    },
    "tags": []
   },
   "outputs": [
    {
     "data": {
      "text/plain": [
       "UserId\n",
       "A3KEZLJ59C1JVH    389\n",
       "A281NPSIMI1C2R    336\n",
       "A3M174IC0VXOS2    326\n",
       "A2V5R832QCSOMX    278\n",
       "A3LJLRIZL38GG3    276\n",
       "Name: Rating, dtype: int64"
      ]
     },
     "execution_count": 12,
     "metadata": {},
     "output_type": "execute_result"
    }
   ],
   "source": [
    "# display the number of ratings per user\n",
    "ratings_per_user = amzn_ratings.groupby('UserId')['Rating'].count().sort_values(ascending=False)\n",
    "ratings_per_user.head()"
   ]
  },
  {
   "cell_type": "code",
   "execution_count": 13,
   "id": "e6abda38",
   "metadata": {},
   "outputs": [
    {
     "data": {
      "text/plain": [
       "<Axes: xlabel='UserId'>"
      ]
     },
     "execution_count": 13,
     "metadata": {},
     "output_type": "execute_result"
    },
    {
     "data": {
      "image/png": "[encoded data removed]",
      "text/plain": [
       "<Figure size 640x480 with 1 Axes>"
      ]
     },
     "metadata": {},
     "output_type": "display_data"
    }
   ],
   "source": [
    "# plot the top 15 users\n",
    "ratings_per_user.head(15).plot(kind = \"bar\")"
   ]
  },
  {
   "cell_type": "markdown",
   "id": "79065c11",
   "metadata": {},
   "source": [
    "We can see that UserID **A3KEZLJ59C1JVH** has ratted for 389 times, which is the highest one."
   ]
  },
  {
   "cell_type": "markdown",
   "id": "f3943f9a",
   "metadata": {},
   "source": [
    "### **Lets's Explore the Ratings:**"
   ]
  },
  {
   "cell_type": "code",
   "execution_count": 14,
   "id": "e499e5a6",
   "metadata": {},
   "outputs": [
    {
     "data": {
      "text/plain": [
       "count    2.023070e+06\n",
       "mean     4.149036e+00\n",
       "std      1.311505e+00\n",
       "min      1.000000e+00\n",
       "25%      4.000000e+00\n",
       "50%      5.000000e+00\n",
       "75%      5.000000e+00\n",
       "max      5.000000e+00\n",
       "Name: Rating, dtype: float64"
      ]
     },
     "execution_count": 14,
     "metadata": {},
     "output_type": "execute_result"
    }
   ],
   "source": [
    "amzn_ratings['Rating'].describe()"
   ]
  },
  {
   "cell_type": "code",
   "execution_count": 15,
   "id": "9027bc80",
   "metadata": {},
   "outputs": [
    {
     "data": {
      "text/plain": [
       "Rating\n",
       "1.0     183784\n",
       "2.0     113034\n",
       "3.0     169791\n",
       "4.0     307740\n",
       "5.0    1248721\n",
       "Name: UserId, dtype: int64"
      ]
     },
     "execution_count": 15,
     "metadata": {},
     "output_type": "execute_result"
    }
   ],
   "source": [
    "# display how many users submitted each rate\n",
    "amzn_ratings.groupby('Rating')['UserId'].count() "
   ]
  },
  {
   "cell_type": "markdown",
   "id": "bfca53f1",
   "metadata": {
    "papermill": {
     "duration": 0.023777,
     "end_time": "2021-10-04T12:30:00.346298",
     "exception": false,
     "start_time": "2021-10-04T12:30:00.322521",
     "status": "completed"
    },
    "tags": []
   },
   "source": [
    "### **Let's explore the users:**"
   ]
  },
  {
   "cell_type": "code",
   "execution_count": 16,
   "id": "bf6c14f6",
   "metadata": {
    "papermill": {
     "duration": 0.107747,
     "end_time": "2021-10-04T12:30:00.538307",
     "exception": false,
     "start_time": "2021-10-04T12:30:00.430560",
     "status": "completed"
    },
    "tags": []
   },
   "outputs": [],
   "source": [
    "# determine the length of each rate\n",
    "rate_of_5 = amzn_ratings[amzn_ratings.Rating==5]\n",
    "rate_of_4 = amzn_ratings[amzn_ratings.Rating==4]\n",
    "rate_of_3 = amzn_ratings[amzn_ratings.Rating==3]\n",
    "rate_of_2 = amzn_ratings[amzn_ratings.Rating==2]\n",
    "rate_of_1 = amzn_ratings[amzn_ratings.Rating==1]"
   ]
  },
  {
   "cell_type": "code",
   "execution_count": 17,
   "id": "a47524c4",
   "metadata": {
    "papermill": {
     "duration": 0.72219,
     "end_time": "2021-10-04T12:30:01.633425",
     "exception": false,
     "start_time": "2021-10-04T12:30:00.911235",
     "status": "completed"
    },
    "tags": []
   },
   "outputs": [
    {
     "name": "stdout",
     "output_type": "stream",
     "text": [
      "The number of users who rated 5 equals  824697\n",
      "The number of users who rated 4 equals  238261\n",
      "The number of users who rated 3 equals  140097\n",
      "The number of users who rated 2 equals  99470\n",
      "The number of users who rated 1 equals  162401\n"
     ]
    }
   ],
   "source": [
    "# display the number of users for each rate\n",
    "print('The number of users who rated 5 equals ',len(rate_of_5['UserId'].unique()))\n",
    "print('The number of users who rated 4 equals ',len(rate_of_4['UserId'].unique()))\n",
    "print('The number of users who rated 3 equals ',len(rate_of_3['UserId'].unique()))\n",
    "print('The number of users who rated 2 equals ',len(rate_of_2['UserId'].unique()))\n",
    "print('The number of users who rated 1 equals ',len(rate_of_1['UserId'].unique()))"
   ]
  },
  {
   "cell_type": "markdown",
   "id": "b763567e",
   "metadata": {},
   "source": [
    "## **Feature Engineering**"
   ]
  },
  {
   "cell_type": "markdown",
   "id": "70c53fb1",
   "metadata": {},
   "source": [
    "The next phase is used to create new features or dataframes from the existing dataset. It is necessary to gain more insights into the data.\n",
    "\n",
    "One of the most important reasons why it is recommended to perform EDA first is that we could have a good understanding of data and the scope to create new features or dataframes."
   ]
  },
  {
   "cell_type": "code",
   "execution_count": 18,
   "id": "ffde0975",
   "metadata": {},
   "outputs": [],
   "source": [
    "# create a new dataframe with average rating \n",
    "df_ratings = pd.DataFrame(amzn_ratings.groupby('ProductId')['Rating'].mean().sort_values(ascending=False))"
   ]
  },
  {
   "cell_type": "code",
   "execution_count": 19,
   "id": "9a67276c",
   "metadata": {},
   "outputs": [
    {
     "data": {
      "text/html": [
       "<div>\n",
       "<style scoped>\n",
       "    .dataframe tbody tr th:only-of-type {\n",
       "        vertical-align: middle;\n",
       "    }\n",
       "\n",
       "    .dataframe tbody tr th {\n",
       "        vertical-align: top;\n",
       "    }\n",
       "\n",
       "    .dataframe thead th {\n",
       "        text-align: right;\n",
       "    }\n",
       "</style>\n",
       "<table border=\"1\" class=\"dataframe\">\n",
       "  <thead>\n",
       "    <tr style=\"text-align: right;\">\n",
       "      <th></th>\n",
       "      <th>Rating</th>\n",
       "      <th>count of rating</th>\n",
       "    </tr>\n",
       "    <tr>\n",
       "      <th>ProductId</th>\n",
       "      <th></th>\n",
       "      <th></th>\n",
       "    </tr>\n",
       "  </thead>\n",
       "  <tbody>\n",
       "    <tr>\n",
       "      <th>B001MA0QY2</th>\n",
       "      <td>4.321386</td>\n",
       "      <td>7533</td>\n",
       "    </tr>\n",
       "    <tr>\n",
       "      <th>B0009V1YR8</th>\n",
       "      <td>3.568839</td>\n",
       "      <td>2869</td>\n",
       "    </tr>\n",
       "    <tr>\n",
       "      <th>B0043OYFKU</th>\n",
       "      <td>4.310456</td>\n",
       "      <td>2477</td>\n",
       "    </tr>\n",
       "    <tr>\n",
       "      <th>B0000YUXI0</th>\n",
       "      <td>4.405040</td>\n",
       "      <td>2143</td>\n",
       "    </tr>\n",
       "    <tr>\n",
       "      <th>B003V265QW</th>\n",
       "      <td>4.365421</td>\n",
       "      <td>2088</td>\n",
       "    </tr>\n",
       "    <tr>\n",
       "      <th>...</th>\n",
       "      <td>...</td>\n",
       "      <td>...</td>\n",
       "    </tr>\n",
       "    <tr>\n",
       "      <th>B0013H228W</th>\n",
       "      <td>5.000000</td>\n",
       "      <td>1</td>\n",
       "    </tr>\n",
       "    <tr>\n",
       "      <th>B0013GNAIE</th>\n",
       "      <td>5.000000</td>\n",
       "      <td>1</td>\n",
       "    </tr>\n",
       "    <tr>\n",
       "      <th>B0013GNAG6</th>\n",
       "      <td>5.000000</td>\n",
       "      <td>1</td>\n",
       "    </tr>\n",
       "    <tr>\n",
       "      <th>B0013GMDT6</th>\n",
       "      <td>5.000000</td>\n",
       "      <td>1</td>\n",
       "    </tr>\n",
       "    <tr>\n",
       "      <th>B00740KNT2</th>\n",
       "      <td>1.000000</td>\n",
       "      <td>1</td>\n",
       "    </tr>\n",
       "  </tbody>\n",
       "</table>\n",
       "<p>249274 rows × 2 columns</p>\n",
       "</div>"
      ],
      "text/plain": [
       "              Rating  count of rating\n",
       "ProductId                            \n",
       "B001MA0QY2  4.321386             7533\n",
       "B0009V1YR8  3.568839             2869\n",
       "B0043OYFKU  4.310456             2477\n",
       "B0000YUXI0  4.405040             2143\n",
       "B003V265QW  4.365421             2088\n",
       "...              ...              ...\n",
       "B0013H228W  5.000000                1\n",
       "B0013GNAIE  5.000000                1\n",
       "B0013GNAG6  5.000000                1\n",
       "B0013GMDT6  5.000000                1\n",
       "B00740KNT2  1.000000                1\n",
       "\n",
       "[249274 rows x 2 columns]"
      ]
     },
     "execution_count": 19,
     "metadata": {},
     "output_type": "execute_result"
    }
   ],
   "source": [
    "# create a new column with count of ratings given for each product\n",
    "df_ratings['count of rating'] = pd.DataFrame(amzn_ratings.groupby('ProductId')['Rating'].count().sort_values(ascending=False))\n",
    "df_ratings.sort_values('count of rating',ascending=False)"
   ]
  },
  {
   "cell_type": "code",
   "execution_count": 20,
   "id": "372331a0",
   "metadata": {},
   "outputs": [
    {
     "data": {
      "text/plain": [
       "<Axes: xlabel='ProductId'>"
      ]
     },
     "execution_count": 20,
     "metadata": {},
     "output_type": "execute_result"
    },
    {
     "data": {
      "image/png": "[encoded data removed]",
      "text/plain": [
       "<Figure size 640x480 with 1 Axes>"
      ]
     },
     "metadata": {},
     "output_type": "display_data"
    }
   ],
   "source": [
    "# plot the top 15 products\n",
    "df_ratings['count of rating'].sort_values(ascending=False).head(15).plot(kind='bar')"
   ]
  },
  {
   "cell_type": "markdown",
   "id": "8008b9e0",
   "metadata": {},
   "source": [
    "There is a big difference between the highest product and the entire products. "
   ]
  },
  {
   "cell_type": "code",
   "execution_count": 21,
   "id": "f62fef10",
   "metadata": {},
   "outputs": [],
   "source": [
    "# create table to get frequency of ratings for products\n",
    "ratings_freq = amzn_ratings.pivot_table(index='ProductId', columns='Rating', values='Timestamp', aggfunc='count', fill_value=0)\n",
    "ratings_freq.columns = ['Rating ' + str(col) for col in ratings_freq.columns]\n",
    "ratings_freq['Frequency'] = ratings_freq.sum(axis=1)"
   ]
  },
  {
   "cell_type": "code",
   "execution_count": 22,
   "id": "c7aefbe7",
   "metadata": {},
   "outputs": [
    {
     "data": {
      "text/plain": [
       "<Figure size 1400x1000 with 0 Axes>"
      ]
     },
     "execution_count": 22,
     "metadata": {},
     "output_type": "execute_result"
    },
    {
     "data": {
      "text/plain": [
       "<BarContainer object of 15 artists>"
      ]
     },
     "execution_count": 22,
     "metadata": {},
     "output_type": "execute_result"
    },
    {
     "data": {
      "text/plain": [
       "<BarContainer object of 15 artists>"
      ]
     },
     "execution_count": 22,
     "metadata": {},
     "output_type": "execute_result"
    },
    {
     "data": {
      "text/plain": [
       "<BarContainer object of 15 artists>"
      ]
     },
     "execution_count": 22,
     "metadata": {},
     "output_type": "execute_result"
    },
    {
     "data": {
      "text/plain": [
       "<BarContainer object of 15 artists>"
      ]
     },
     "execution_count": 22,
     "metadata": {},
     "output_type": "execute_result"
    },
    {
     "data": {
      "text/plain": [
       "<BarContainer object of 15 artists>"
      ]
     },
     "execution_count": 22,
     "metadata": {},
     "output_type": "execute_result"
    },
    {
     "data": {
      "text/plain": [
       "Text(0.5, 0, 'ProductID')"
      ]
     },
     "execution_count": 22,
     "metadata": {},
     "output_type": "execute_result"
    },
    {
     "data": {
      "text/plain": [
       "([0, 1, 2, 3, 4, 5, 6, 7, 8, 9, 10, 11, 12, 13, 14],\n",
       " [Text(0, 0, 'B001MA0QY2'),\n",
       "  Text(1, 0, 'B0009V1YR8'),\n",
       "  Text(2, 0, 'B0043OYFKU'),\n",
       "  Text(3, 0, 'B0000YUXI0'),\n",
       "  Text(4, 0, 'B003V265QW'),\n",
       "  Text(5, 0, 'B000ZMBSPE'),\n",
       "  Text(6, 0, 'B003BQ6QXK'),\n",
       "  Text(7, 0, 'B004OHQR1Q'),\n",
       "  Text(8, 0, 'B00121UVU0'),\n",
       "  Text(9, 0, 'B000FS05VG'),\n",
       "  Text(10, 0, 'B000142FVW'),\n",
       "  Text(11, 0, 'B0046VGPHQ'),\n",
       "  Text(12, 0, 'B001JKTTVQ'),\n",
       "  Text(13, 0, 'B004INUWX0'),\n",
       "  Text(14, 0, 'B000TKH6G2')])"
      ]
     },
     "execution_count": 22,
     "metadata": {},
     "output_type": "execute_result"
    },
    {
     "data": {
      "text/plain": [
       "Text(0, 0.5, 'Count')"
      ]
     },
     "execution_count": 22,
     "metadata": {},
     "output_type": "execute_result"
    },
    {
     "data": {
      "text/plain": [
       "Text(0.5, 1.0, 'Ratings Frequencies for the Products')"
      ]
     },
     "execution_count": 22,
     "metadata": {},
     "output_type": "execute_result"
    },
    {
     "data": {
      "text/plain": [
       "<matplotlib.legend.Legend at 0x7f9b18238a60>"
      ]
     },
     "execution_count": 22,
     "metadata": {},
     "output_type": "execute_result"
    },
    {
     "data": {
      "image/png": "[encoded data removed]",
      "text/plain": [
       "<Figure size 1400x1000 with 1 Axes>"
      ]
     },
     "metadata": {},
     "output_type": "display_data"
    }
   ],
   "source": [
    "# extract information from the dataframe\n",
    "df_ratings_freq = ratings_freq.sort_values('Frequency', ascending=False).head(15)\n",
    "\n",
    "ratings = df_ratings_freq[['Rating 1.0', 'Rating 2.0', 'Rating 3.0', 'Rating 4.0', 'Rating 5.0']].values\n",
    "productID = df_ratings_freq.index.values\n",
    "\n",
    "# set a red color palette\n",
    "col = sns.color_palette('Reds', n_colors=5)\n",
    "\n",
    "# visualize the bar chart \n",
    "plt.figure(figsize=(14, 10), facecolor='w')\n",
    "for i in range(5):\n",
    "    plt.bar(productID, ratings[:, i], bottom=ratings[:, :i].sum(axis=1), color=col[i], label='Rating ' + str(i+1) + '.0')\n",
    "\n",
    "plt.xlabel('ProductID')\n",
    "plt.xticks(rotation=45)\n",
    "plt.ylabel('Count')\n",
    "plt.title('Ratings Frequencies for the Products')\n",
    "plt.tight_layout()\n",
    "plt.legend(loc='upper right')\n",
    "\n",
    "# display the plot\n",
    "plt.show()"
   ]
  },
  {
   "cell_type": "markdown",
   "id": "598226ab",
   "metadata": {},
   "source": [
    "We can figure out that most rating has submitted for the top 15 products is 5."
   ]
  },
  {
   "cell_type": "code",
   "execution_count": 23,
   "id": "3a018ead",
   "metadata": {},
   "outputs": [
    {
     "data": {
      "text/html": [
       "<div>\n",
       "<style scoped>\n",
       "    .dataframe tbody tr th:only-of-type {\n",
       "        vertical-align: middle;\n",
       "    }\n",
       "\n",
       "    .dataframe tbody tr th {\n",
       "        vertical-align: top;\n",
       "    }\n",
       "\n",
       "    .dataframe thead th {\n",
       "        text-align: right;\n",
       "    }\n",
       "</style>\n",
       "<table border=\"1\" class=\"dataframe\">\n",
       "  <thead>\n",
       "    <tr style=\"text-align: right;\">\n",
       "      <th></th>\n",
       "      <th>UserId</th>\n",
       "      <th>ProductId</th>\n",
       "      <th>Rating</th>\n",
       "      <th>Timestamp</th>\n",
       "      <th>user_id</th>\n",
       "    </tr>\n",
       "  </thead>\n",
       "  <tbody>\n",
       "    <tr>\n",
       "      <th>0</th>\n",
       "      <td>A39HTATAQ9V7YF</td>\n",
       "      <td>0205616461</td>\n",
       "      <td>5.0</td>\n",
       "      <td>1369699200</td>\n",
       "      <td>0</td>\n",
       "    </tr>\n",
       "    <tr>\n",
       "      <th>1</th>\n",
       "      <td>A3JM6GV9MNOF9X</td>\n",
       "      <td>0558925278</td>\n",
       "      <td>3.0</td>\n",
       "      <td>1355443200</td>\n",
       "      <td>1</td>\n",
       "    </tr>\n",
       "    <tr>\n",
       "      <th>2</th>\n",
       "      <td>A1Z513UWSAAO0F</td>\n",
       "      <td>0558925278</td>\n",
       "      <td>5.0</td>\n",
       "      <td>1404691200</td>\n",
       "      <td>2</td>\n",
       "    </tr>\n",
       "    <tr>\n",
       "      <th>3</th>\n",
       "      <td>A1WMRR494NWEWV</td>\n",
       "      <td>0733001998</td>\n",
       "      <td>4.0</td>\n",
       "      <td>1382572800</td>\n",
       "      <td>3</td>\n",
       "    </tr>\n",
       "    <tr>\n",
       "      <th>4</th>\n",
       "      <td>A3IAAVS479H7M7</td>\n",
       "      <td>0737104473</td>\n",
       "      <td>1.0</td>\n",
       "      <td>1274227200</td>\n",
       "      <td>4</td>\n",
       "    </tr>\n",
       "  </tbody>\n",
       "</table>\n",
       "</div>"
      ],
      "text/plain": [
       "           UserId   ProductId  Rating   Timestamp  user_id\n",
       "0  A39HTATAQ9V7YF  0205616461     5.0  1369699200        0\n",
       "1  A3JM6GV9MNOF9X  0558925278     3.0  1355443200        1\n",
       "2  A1Z513UWSAAO0F  0558925278     5.0  1404691200        2\n",
       "3  A1WMRR494NWEWV  0733001998     4.0  1382572800        3\n",
       "4  A3IAAVS479H7M7  0737104473     1.0  1274227200        4"
      ]
     },
     "execution_count": 23,
     "metadata": {},
     "output_type": "execute_result"
    }
   ],
   "source": [
    "# add a new column 'user_id' to the dataframe\n",
    "amzn_ratings['user_id'] = pd.factorize(amzn_ratings['UserId'])[0]\n",
    "amzn_ratings.head(5)"
   ]
  },
  {
   "cell_type": "code",
   "execution_count": 24,
   "id": "21a7dfe6",
   "metadata": {},
   "outputs": [
    {
     "data": {
      "text/plain": [
       "1210271"
      ]
     },
     "execution_count": 24,
     "metadata": {},
     "output_type": "execute_result"
    }
   ],
   "source": [
    "# check length of 'UserId'\n",
    "len(amzn_ratings['UserId'].unique())"
   ]
  },
  {
   "cell_type": "code",
   "execution_count": 25,
   "id": "c70184bc",
   "metadata": {},
   "outputs": [
    {
     "data": {
      "text/plain": [
       "1210271"
      ]
     },
     "execution_count": 25,
     "metadata": {},
     "output_type": "execute_result"
    }
   ],
   "source": [
    "# check length of 'user_id'\n",
    "len(amzn_ratings['user_id'].unique())"
   ]
  },
  {
   "cell_type": "markdown",
   "id": "ef3ce0c2",
   "metadata": {},
   "source": [
    "The number of **'UserId'** and **'user_id'** is equal"
   ]
  },
  {
   "cell_type": "code",
   "execution_count": 26,
   "id": "74c22dd3",
   "metadata": {},
   "outputs": [
    {
     "data": {
      "text/html": [
       "<div>\n",
       "<style scoped>\n",
       "    .dataframe tbody tr th:only-of-type {\n",
       "        vertical-align: middle;\n",
       "    }\n",
       "\n",
       "    .dataframe tbody tr th {\n",
       "        vertical-align: top;\n",
       "    }\n",
       "\n",
       "    .dataframe thead th {\n",
       "        text-align: right;\n",
       "    }\n",
       "</style>\n",
       "<table border=\"1\" class=\"dataframe\">\n",
       "  <thead>\n",
       "    <tr style=\"text-align: right;\">\n",
       "      <th></th>\n",
       "      <th>Rating 1.0</th>\n",
       "      <th>Rating 2.0</th>\n",
       "      <th>Rating 3.0</th>\n",
       "      <th>Rating 4.0</th>\n",
       "      <th>Rating 5.0</th>\n",
       "      <th>Rating Frequency</th>\n",
       "    </tr>\n",
       "    <tr>\n",
       "      <th>user_id</th>\n",
       "      <th></th>\n",
       "      <th></th>\n",
       "      <th></th>\n",
       "      <th></th>\n",
       "      <th></th>\n",
       "      <th></th>\n",
       "    </tr>\n",
       "  </thead>\n",
       "  <tbody>\n",
       "    <tr>\n",
       "      <th>847</th>\n",
       "      <td>27</td>\n",
       "      <td>49</td>\n",
       "      <td>60</td>\n",
       "      <td>129</td>\n",
       "      <td>124</td>\n",
       "      <td>389</td>\n",
       "    </tr>\n",
       "    <tr>\n",
       "      <th>3905</th>\n",
       "      <td>0</td>\n",
       "      <td>0</td>\n",
       "      <td>16</td>\n",
       "      <td>38</td>\n",
       "      <td>282</td>\n",
       "      <td>336</td>\n",
       "    </tr>\n",
       "    <tr>\n",
       "      <th>2287</th>\n",
       "      <td>1</td>\n",
       "      <td>6</td>\n",
       "      <td>22</td>\n",
       "      <td>125</td>\n",
       "      <td>172</td>\n",
       "      <td>326</td>\n",
       "    </tr>\n",
       "    <tr>\n",
       "      <th>10293</th>\n",
       "      <td>4</td>\n",
       "      <td>13</td>\n",
       "      <td>20</td>\n",
       "      <td>67</td>\n",
       "      <td>174</td>\n",
       "      <td>278</td>\n",
       "    </tr>\n",
       "    <tr>\n",
       "      <th>107881</th>\n",
       "      <td>0</td>\n",
       "      <td>9</td>\n",
       "      <td>14</td>\n",
       "      <td>69</td>\n",
       "      <td>184</td>\n",
       "      <td>276</td>\n",
       "    </tr>\n",
       "    <tr>\n",
       "      <th>8351</th>\n",
       "      <td>183</td>\n",
       "      <td>6</td>\n",
       "      <td>6</td>\n",
       "      <td>3</td>\n",
       "      <td>77</td>\n",
       "      <td>275</td>\n",
       "    </tr>\n",
       "    <tr>\n",
       "      <th>4229</th>\n",
       "      <td>10</td>\n",
       "      <td>9</td>\n",
       "      <td>6</td>\n",
       "      <td>23</td>\n",
       "      <td>221</td>\n",
       "      <td>269</td>\n",
       "    </tr>\n",
       "    <tr>\n",
       "      <th>1822</th>\n",
       "      <td>7</td>\n",
       "      <td>24</td>\n",
       "      <td>46</td>\n",
       "      <td>75</td>\n",
       "      <td>107</td>\n",
       "      <td>259</td>\n",
       "    </tr>\n",
       "    <tr>\n",
       "      <th>45464</th>\n",
       "      <td>16</td>\n",
       "      <td>27</td>\n",
       "      <td>52</td>\n",
       "      <td>41</td>\n",
       "      <td>113</td>\n",
       "      <td>249</td>\n",
       "    </tr>\n",
       "    <tr>\n",
       "      <th>47841</th>\n",
       "      <td>13</td>\n",
       "      <td>42</td>\n",
       "      <td>56</td>\n",
       "      <td>80</td>\n",
       "      <td>34</td>\n",
       "      <td>225</td>\n",
       "    </tr>\n",
       "    <tr>\n",
       "      <th>24363</th>\n",
       "      <td>1</td>\n",
       "      <td>2</td>\n",
       "      <td>6</td>\n",
       "      <td>45</td>\n",
       "      <td>157</td>\n",
       "      <td>211</td>\n",
       "    </tr>\n",
       "    <tr>\n",
       "      <th>6234</th>\n",
       "      <td>6</td>\n",
       "      <td>4</td>\n",
       "      <td>14</td>\n",
       "      <td>52</td>\n",
       "      <td>133</td>\n",
       "      <td>209</td>\n",
       "    </tr>\n",
       "    <tr>\n",
       "      <th>28789</th>\n",
       "      <td>4</td>\n",
       "      <td>17</td>\n",
       "      <td>49</td>\n",
       "      <td>47</td>\n",
       "      <td>88</td>\n",
       "      <td>205</td>\n",
       "    </tr>\n",
       "    <tr>\n",
       "      <th>1515</th>\n",
       "      <td>3</td>\n",
       "      <td>14</td>\n",
       "      <td>37</td>\n",
       "      <td>62</td>\n",
       "      <td>70</td>\n",
       "      <td>186</td>\n",
       "    </tr>\n",
       "    <tr>\n",
       "      <th>7899</th>\n",
       "      <td>4</td>\n",
       "      <td>6</td>\n",
       "      <td>16</td>\n",
       "      <td>129</td>\n",
       "      <td>27</td>\n",
       "      <td>182</td>\n",
       "    </tr>\n",
       "  </tbody>\n",
       "</table>\n",
       "</div>"
      ],
      "text/plain": [
       "         Rating 1.0  Rating 2.0  Rating 3.0  Rating 4.0  Rating 5.0   \n",
       "user_id                                                               \n",
       "847              27          49          60         129         124  \\\n",
       "3905              0           0          16          38         282   \n",
       "2287              1           6          22         125         172   \n",
       "10293             4          13          20          67         174   \n",
       "107881            0           9          14          69         184   \n",
       "8351            183           6           6           3          77   \n",
       "4229             10           9           6          23         221   \n",
       "1822              7          24          46          75         107   \n",
       "45464            16          27          52          41         113   \n",
       "47841            13          42          56          80          34   \n",
       "24363             1           2           6          45         157   \n",
       "6234              6           4          14          52         133   \n",
       "28789             4          17          49          47          88   \n",
       "1515              3          14          37          62          70   \n",
       "7899              4           6          16         129          27   \n",
       "\n",
       "         Rating Frequency  \n",
       "user_id                    \n",
       "847                   389  \n",
       "3905                  336  \n",
       "2287                  326  \n",
       "10293                 278  \n",
       "107881                276  \n",
       "8351                  275  \n",
       "4229                  269  \n",
       "1822                  259  \n",
       "45464                 249  \n",
       "47841                 225  \n",
       "24363                 211  \n",
       "6234                  209  \n",
       "28789                 205  \n",
       "1515                  186  \n",
       "7899                  182  "
      ]
     },
     "execution_count": 26,
     "metadata": {},
     "output_type": "execute_result"
    }
   ],
   "source": [
    "# create table to get frequency of ratings for users\n",
    "df_users_ratings = amzn_ratings.pivot_table(index='user_id', columns='Rating', aggfunc='size', fill_value=0)\n",
    "\n",
    "# add a new column 'Frequency' to the dataframe\n",
    "df_users_ratings['Frequency'] = df_users_ratings.sum(axis=1)\n",
    "\n",
    "# rename the columns\n",
    "df_users_ratings.columns = ['Rating ' + str(col) for col in df_users_ratings.columns]\n",
    "\n",
    "# reset the index \n",
    "df_users_ratings = df_users_ratings.reset_index()\n",
    "df_users_ratings = df_users_ratings.sort_values(by = 'Rating Frequency', ascending = False)\n",
    "\n",
    "# assign the 'UserId' column as the index\n",
    "df_users_ratings.set_index('user_id', inplace=True)\n",
    "\n",
    "df_users_ratings.head(15)"
   ]
  },
  {
   "cell_type": "code",
   "execution_count": 27,
   "id": "ae94a0fe",
   "metadata": {},
   "outputs": [
    {
     "data": {
      "text/plain": [
       "<Figure size 1800x1000 with 0 Axes>"
      ]
     },
     "execution_count": 27,
     "metadata": {},
     "output_type": "execute_result"
    },
    {
     "data": {
      "text/plain": [
       "<Axes: xlabel='user_id'>"
      ]
     },
     "execution_count": 27,
     "metadata": {},
     "output_type": "execute_result"
    },
    {
     "data": {
      "text/plain": [
       "Text(0.5, 0, 'UserId')"
      ]
     },
     "execution_count": 27,
     "metadata": {},
     "output_type": "execute_result"
    },
    {
     "data": {
      "text/plain": [
       "(array([ 0,  1,  2,  3,  4,  5,  6,  7,  8,  9, 10, 11, 12, 13, 14]),\n",
       " [Text(0, 0, '847'),\n",
       "  Text(1, 0, '3905'),\n",
       "  Text(2, 0, '2287'),\n",
       "  Text(3, 0, '10293'),\n",
       "  Text(4, 0, '107881'),\n",
       "  Text(5, 0, '8351'),\n",
       "  Text(6, 0, '4229'),\n",
       "  Text(7, 0, '1822'),\n",
       "  Text(8, 0, '45464'),\n",
       "  Text(9, 0, '47841'),\n",
       "  Text(10, 0, '24363'),\n",
       "  Text(11, 0, '6234'),\n",
       "  Text(12, 0, '28789'),\n",
       "  Text(13, 0, '1515'),\n",
       "  Text(14, 0, '7899')])"
      ]
     },
     "execution_count": 27,
     "metadata": {},
     "output_type": "execute_result"
    },
    {
     "data": {
      "text/plain": [
       "Text(0, 0.5, 'Count')"
      ]
     },
     "execution_count": 27,
     "metadata": {},
     "output_type": "execute_result"
    },
    {
     "data": {
      "text/plain": [
       "Text(0.5, 1.0, 'Ratings Frequencies for the Users')"
      ]
     },
     "execution_count": 27,
     "metadata": {},
     "output_type": "execute_result"
    },
    {
     "data": {
      "text/plain": [
       "<matplotlib.legend.Legend at 0x7f9b18091850>"
      ]
     },
     "execution_count": 27,
     "metadata": {},
     "output_type": "execute_result"
    },
    {
     "data": {
      "text/plain": [
       "<Figure size 1800x1000 with 0 Axes>"
      ]
     },
     "metadata": {},
     "output_type": "display_data"
    },
    {
     "data": {
      "image/png": "[encoded data removed]",
      "text/plain": [
       "<Figure size 640x480 with 1 Axes>"
      ]
     },
     "metadata": {},
     "output_type": "display_data"
    }
   ],
   "source": [
    "# set a red color palette\n",
    "col = sns.color_palette('Greens', n_colors=5)\n",
    "\n",
    "# visualize the bar chart \n",
    "plt.figure(figsize=(18, 10))\n",
    "df_users_ratings[['Rating 1.0', 'Rating 2.0', 'Rating 3.0', 'Rating 4.0', 'Rating 5.0']].head(15).plot(kind='bar', stacked=True, color=col)\n",
    "\n",
    "plt.xlabel('UserId')\n",
    "plt.xticks(rotation=45)\n",
    "plt.ylabel('Count')\n",
    "plt.title('Ratings Frequencies for the Users')\n",
    "plt.tight_layout()\n",
    "plt.legend(title='Ratings', fontsize=9, loc='upper right')\n",
    "\n",
    "# display the plot\n",
    "plt.show()"
   ]
  },
  {
   "cell_type": "markdown",
   "id": "05e28546",
   "metadata": {},
   "source": [
    "- As we can see, Rating 5 is the most submitted rating from the users.\n",
    "\n",
    "- There is a difference between the users' behaviors. For example, UserID **3905** used rating 5 alot, where UserID **8351** has ratted with 1 alot.\n",
    "\n",
    "- Maybe فhe reason behind this is that customers have different tastes and what they likeز"
   ]
  },
  {
   "cell_type": "markdown",
   "id": "d6d59b2d",
   "metadata": {},
   "source": [
    "## **Recommender System**"
   ]
  },
  {
   "cell_type": "markdown",
   "id": "d6ff68d0",
   "metadata": {},
   "source": [
    "#### **Model-based collaborative filtering system**\n",
    "\n",
    "- Collaborative Filtering approach will be used to recommend items to user.\n",
    "\n",
    "- Based on this, it will recommend items to user based on purchase history and similarity of ratings provided by other users who bought items.\n"
   ]
  },
  {
   "cell_type": "code",
   "execution_count": 28,
   "id": "097f1492",
   "metadata": {},
   "outputs": [],
   "source": [
    "# show a sample of data\n",
    "amazon_ratings1 = amzn_ratings.head(10000)"
   ]
  },
  {
   "cell_type": "code",
   "execution_count": 29,
   "id": "b12c5f2c",
   "metadata": {},
   "outputs": [],
   "source": [
    "# create a matrix\n",
    "ratings_matrix = amazon_ratings1.pivot_table(values='Rating', index='UserId', columns='ProductId', fill_value=0)"
   ]
  },
  {
   "cell_type": "code",
   "execution_count": 30,
   "id": "e40c0114",
   "metadata": {},
   "outputs": [
    {
     "data": {
      "text/html": [
       "<div>\n",
       "<style scoped>\n",
       "    .dataframe tbody tr th:only-of-type {\n",
       "        vertical-align: middle;\n",
       "    }\n",
       "\n",
       "    .dataframe tbody tr th {\n",
       "        vertical-align: top;\n",
       "    }\n",
       "\n",
       "    .dataframe thead th {\n",
       "        text-align: right;\n",
       "    }\n",
       "</style>\n",
       "<table border=\"1\" class=\"dataframe\">\n",
       "  <thead>\n",
       "    <tr style=\"text-align: right;\">\n",
       "      <th>ProductId</th>\n",
       "      <th>0205616461</th>\n",
       "      <th>0558925278</th>\n",
       "      <th>0733001998</th>\n",
       "      <th>0737104473</th>\n",
       "      <th>0762451459</th>\n",
       "      <th>1304139212</th>\n",
       "      <th>1304139220</th>\n",
       "      <th>130414089X</th>\n",
       "      <th>130414643X</th>\n",
       "      <th>1304146537</th>\n",
       "      <th>...</th>\n",
       "      <th>B000052YPE</th>\n",
       "      <th>B000052YPF</th>\n",
       "      <th>B000052YPG</th>\n",
       "      <th>B000052YPH</th>\n",
       "      <th>B000052YPM</th>\n",
       "      <th>B000052YPU</th>\n",
       "      <th>B000052YPV</th>\n",
       "      <th>B000052YPY</th>\n",
       "      <th>B000052YQ0</th>\n",
       "      <th>B000052YQ2</th>\n",
       "    </tr>\n",
       "    <tr>\n",
       "      <th>UserId</th>\n",
       "      <th></th>\n",
       "      <th></th>\n",
       "      <th></th>\n",
       "      <th></th>\n",
       "      <th></th>\n",
       "      <th></th>\n",
       "      <th></th>\n",
       "      <th></th>\n",
       "      <th></th>\n",
       "      <th></th>\n",
       "      <th></th>\n",
       "      <th></th>\n",
       "      <th></th>\n",
       "      <th></th>\n",
       "      <th></th>\n",
       "      <th></th>\n",
       "      <th></th>\n",
       "      <th></th>\n",
       "      <th></th>\n",
       "      <th></th>\n",
       "      <th></th>\n",
       "    </tr>\n",
       "  </thead>\n",
       "  <tbody>\n",
       "    <tr>\n",
       "      <th>A00205921JHJK5X9LNP42</th>\n",
       "      <td>0</td>\n",
       "      <td>0</td>\n",
       "      <td>0</td>\n",
       "      <td>0</td>\n",
       "      <td>0</td>\n",
       "      <td>0</td>\n",
       "      <td>0</td>\n",
       "      <td>0</td>\n",
       "      <td>0</td>\n",
       "      <td>0</td>\n",
       "      <td>...</td>\n",
       "      <td>0</td>\n",
       "      <td>0</td>\n",
       "      <td>0</td>\n",
       "      <td>0</td>\n",
       "      <td>0</td>\n",
       "      <td>0</td>\n",
       "      <td>0</td>\n",
       "      <td>0</td>\n",
       "      <td>0</td>\n",
       "      <td>0</td>\n",
       "    </tr>\n",
       "    <tr>\n",
       "      <th>A024581134CV80ZBLIZTZ</th>\n",
       "      <td>0</td>\n",
       "      <td>0</td>\n",
       "      <td>0</td>\n",
       "      <td>0</td>\n",
       "      <td>0</td>\n",
       "      <td>0</td>\n",
       "      <td>0</td>\n",
       "      <td>0</td>\n",
       "      <td>0</td>\n",
       "      <td>0</td>\n",
       "      <td>...</td>\n",
       "      <td>0</td>\n",
       "      <td>0</td>\n",
       "      <td>0</td>\n",
       "      <td>0</td>\n",
       "      <td>0</td>\n",
       "      <td>0</td>\n",
       "      <td>0</td>\n",
       "      <td>0</td>\n",
       "      <td>0</td>\n",
       "      <td>0</td>\n",
       "    </tr>\n",
       "    <tr>\n",
       "      <th>A03056581JJIOL5FSKJY7</th>\n",
       "      <td>0</td>\n",
       "      <td>0</td>\n",
       "      <td>0</td>\n",
       "      <td>0</td>\n",
       "      <td>0</td>\n",
       "      <td>0</td>\n",
       "      <td>0</td>\n",
       "      <td>0</td>\n",
       "      <td>0</td>\n",
       "      <td>0</td>\n",
       "      <td>...</td>\n",
       "      <td>0</td>\n",
       "      <td>0</td>\n",
       "      <td>0</td>\n",
       "      <td>0</td>\n",
       "      <td>0</td>\n",
       "      <td>0</td>\n",
       "      <td>0</td>\n",
       "      <td>0</td>\n",
       "      <td>0</td>\n",
       "      <td>0</td>\n",
       "    </tr>\n",
       "    <tr>\n",
       "      <th>A03099101ZRK4K607JVHH</th>\n",
       "      <td>0</td>\n",
       "      <td>0</td>\n",
       "      <td>0</td>\n",
       "      <td>0</td>\n",
       "      <td>0</td>\n",
       "      <td>0</td>\n",
       "      <td>0</td>\n",
       "      <td>0</td>\n",
       "      <td>0</td>\n",
       "      <td>0</td>\n",
       "      <td>...</td>\n",
       "      <td>0</td>\n",
       "      <td>0</td>\n",
       "      <td>0</td>\n",
       "      <td>0</td>\n",
       "      <td>0</td>\n",
       "      <td>0</td>\n",
       "      <td>0</td>\n",
       "      <td>0</td>\n",
       "      <td>0</td>\n",
       "      <td>0</td>\n",
       "    </tr>\n",
       "    <tr>\n",
       "      <th>A0505229A7NSH3FRXRR4</th>\n",
       "      <td>0</td>\n",
       "      <td>0</td>\n",
       "      <td>0</td>\n",
       "      <td>0</td>\n",
       "      <td>0</td>\n",
       "      <td>0</td>\n",
       "      <td>0</td>\n",
       "      <td>0</td>\n",
       "      <td>0</td>\n",
       "      <td>0</td>\n",
       "      <td>...</td>\n",
       "      <td>0</td>\n",
       "      <td>0</td>\n",
       "      <td>0</td>\n",
       "      <td>0</td>\n",
       "      <td>0</td>\n",
       "      <td>0</td>\n",
       "      <td>0</td>\n",
       "      <td>0</td>\n",
       "      <td>0</td>\n",
       "      <td>0</td>\n",
       "    </tr>\n",
       "  </tbody>\n",
       "</table>\n",
       "<p>5 rows × 886 columns</p>\n",
       "</div>"
      ],
      "text/plain": [
       "ProductId              0205616461  0558925278  0733001998  0737104473   \n",
       "UserId                                                                  \n",
       "A00205921JHJK5X9LNP42           0           0           0           0  \\\n",
       "A024581134CV80ZBLIZTZ           0           0           0           0   \n",
       "A03056581JJIOL5FSKJY7           0           0           0           0   \n",
       "A03099101ZRK4K607JVHH           0           0           0           0   \n",
       "A0505229A7NSH3FRXRR4            0           0           0           0   \n",
       "\n",
       "ProductId              0762451459  1304139212  1304139220  130414089X   \n",
       "UserId                                                                  \n",
       "A00205921JHJK5X9LNP42           0           0           0           0  \\\n",
       "A024581134CV80ZBLIZTZ           0           0           0           0   \n",
       "A03056581JJIOL5FSKJY7           0           0           0           0   \n",
       "A03099101ZRK4K607JVHH           0           0           0           0   \n",
       "A0505229A7NSH3FRXRR4            0           0           0           0   \n",
       "\n",
       "ProductId              130414643X  1304146537  ...  B000052YPE  B000052YPF   \n",
       "UserId                                         ...                           \n",
       "A00205921JHJK5X9LNP42           0           0  ...           0           0  \\\n",
       "A024581134CV80ZBLIZTZ           0           0  ...           0           0   \n",
       "A03056581JJIOL5FSKJY7           0           0  ...           0           0   \n",
       "A03099101ZRK4K607JVHH           0           0  ...           0           0   \n",
       "A0505229A7NSH3FRXRR4            0           0  ...           0           0   \n",
       "\n",
       "ProductId              B000052YPG  B000052YPH  B000052YPM  B000052YPU   \n",
       "UserId                                                                  \n",
       "A00205921JHJK5X9LNP42           0           0           0           0  \\\n",
       "A024581134CV80ZBLIZTZ           0           0           0           0   \n",
       "A03056581JJIOL5FSKJY7           0           0           0           0   \n",
       "A03099101ZRK4K607JVHH           0           0           0           0   \n",
       "A0505229A7NSH3FRXRR4            0           0           0           0   \n",
       "\n",
       "ProductId              B000052YPV  B000052YPY  B000052YQ0  B000052YQ2  \n",
       "UserId                                                                 \n",
       "A00205921JHJK5X9LNP42           0           0           0           0  \n",
       "A024581134CV80ZBLIZTZ           0           0           0           0  \n",
       "A03056581JJIOL5FSKJY7           0           0           0           0  \n",
       "A03099101ZRK4K607JVHH           0           0           0           0  \n",
       "A0505229A7NSH3FRXRR4            0           0           0           0  \n",
       "\n",
       "[5 rows x 886 columns]"
      ]
     },
     "execution_count": 30,
     "metadata": {},
     "output_type": "execute_result"
    }
   ],
   "source": [
    "# show the created matrix\n",
    "ratings_matrix.head()"
   ]
  },
  {
   "cell_type": "markdown",
   "id": "7e7e2a8c",
   "metadata": {},
   "source": [
    "- The matrix shows all potential ratings that users could give to items.\n",
    "\n",
    "- The ratings are arranged in a matrix format with users as rows and items as columns. \n",
    "\n",
    "- Most of the cells in the matrix are NaN because users only rate a small number of items.\n",
    "\n",
    "- The empty cells are filled with 0s rather than missing data. \n",
    "\n",
    "- The goal is to predict how users would rate items they have not yet rated based on patterns in their existing ratings as well as ratings by similar users."
   ]
  },
  {
   "cell_type": "code",
   "execution_count": 31,
   "id": "5109d743",
   "metadata": {},
   "outputs": [
    {
     "data": {
      "text/plain": [
       "(9697, 886)"
      ]
     },
     "execution_count": 31,
     "metadata": {},
     "output_type": "execute_result"
    }
   ],
   "source": [
    "# check the shape of ratings_matrix\n",
    "ratings_matrix.shape"
   ]
  },
  {
   "cell_type": "markdown",
   "id": "54bc3306",
   "metadata": {},
   "source": [
    "The matrix has 9697 rows and 886 columns."
   ]
  },
  {
   "cell_type": "code",
   "execution_count": 32,
   "id": "49d18842",
   "metadata": {},
   "outputs": [],
   "source": [
    "# transpose the matrix\n",
    "Matrix = ratings_matrix.T"
   ]
  },
  {
   "cell_type": "code",
   "execution_count": 33,
   "id": "74ec0462",
   "metadata": {},
   "outputs": [
    {
     "data": {
      "text/html": [
       "<div>\n",
       "<style scoped>\n",
       "    .dataframe tbody tr th:only-of-type {\n",
       "        vertical-align: middle;\n",
       "    }\n",
       "\n",
       "    .dataframe tbody tr th {\n",
       "        vertical-align: top;\n",
       "    }\n",
       "\n",
       "    .dataframe thead th {\n",
       "        text-align: right;\n",
       "    }\n",
       "</style>\n",
       "<table border=\"1\" class=\"dataframe\">\n",
       "  <thead>\n",
       "    <tr style=\"text-align: right;\">\n",
       "      <th>UserId</th>\n",
       "      <th>A00205921JHJK5X9LNP42</th>\n",
       "      <th>A024581134CV80ZBLIZTZ</th>\n",
       "      <th>A03056581JJIOL5FSKJY7</th>\n",
       "      <th>A03099101ZRK4K607JVHH</th>\n",
       "      <th>A0505229A7NSH3FRXRR4</th>\n",
       "      <th>A05492663T95KW63BR75K</th>\n",
       "      <th>A059547920Q3LZVFHLPI3</th>\n",
       "      <th>A07410232KYRFR25CIUGJ</th>\n",
       "      <th>A082796624UNM47DSAI6K</th>\n",
       "      <th>A0864963DOAY7LXGS5I6</th>\n",
       "      <th>...</th>\n",
       "      <th>AZW1HXXYAC15B</th>\n",
       "      <th>AZWRTJPN7NXT</th>\n",
       "      <th>AZWTXHXZXFAYP</th>\n",
       "      <th>AZYQEFB9Y5N22</th>\n",
       "      <th>AZZHB6U54UDYW</th>\n",
       "      <th>AZZHJZP4GQPPZ</th>\n",
       "      <th>AZZNK89PXD006</th>\n",
       "      <th>AZZOFVMQC0BJG</th>\n",
       "      <th>AZZQXL8VDCFTV</th>\n",
       "      <th>AZZTJQ7CQZUD8</th>\n",
       "    </tr>\n",
       "    <tr>\n",
       "      <th>ProductId</th>\n",
       "      <th></th>\n",
       "      <th></th>\n",
       "      <th></th>\n",
       "      <th></th>\n",
       "      <th></th>\n",
       "      <th></th>\n",
       "      <th></th>\n",
       "      <th></th>\n",
       "      <th></th>\n",
       "      <th></th>\n",
       "      <th></th>\n",
       "      <th></th>\n",
       "      <th></th>\n",
       "      <th></th>\n",
       "      <th></th>\n",
       "      <th></th>\n",
       "      <th></th>\n",
       "      <th></th>\n",
       "      <th></th>\n",
       "      <th></th>\n",
       "      <th></th>\n",
       "    </tr>\n",
       "  </thead>\n",
       "  <tbody>\n",
       "    <tr>\n",
       "      <th>0205616461</th>\n",
       "      <td>0</td>\n",
       "      <td>0</td>\n",
       "      <td>0</td>\n",
       "      <td>0</td>\n",
       "      <td>0</td>\n",
       "      <td>0</td>\n",
       "      <td>0</td>\n",
       "      <td>0</td>\n",
       "      <td>0</td>\n",
       "      <td>0</td>\n",
       "      <td>...</td>\n",
       "      <td>0</td>\n",
       "      <td>0</td>\n",
       "      <td>0</td>\n",
       "      <td>0</td>\n",
       "      <td>0</td>\n",
       "      <td>0</td>\n",
       "      <td>0</td>\n",
       "      <td>0</td>\n",
       "      <td>0</td>\n",
       "      <td>0</td>\n",
       "    </tr>\n",
       "    <tr>\n",
       "      <th>0558925278</th>\n",
       "      <td>0</td>\n",
       "      <td>0</td>\n",
       "      <td>0</td>\n",
       "      <td>0</td>\n",
       "      <td>0</td>\n",
       "      <td>0</td>\n",
       "      <td>0</td>\n",
       "      <td>0</td>\n",
       "      <td>0</td>\n",
       "      <td>0</td>\n",
       "      <td>...</td>\n",
       "      <td>0</td>\n",
       "      <td>0</td>\n",
       "      <td>0</td>\n",
       "      <td>0</td>\n",
       "      <td>0</td>\n",
       "      <td>0</td>\n",
       "      <td>0</td>\n",
       "      <td>0</td>\n",
       "      <td>0</td>\n",
       "      <td>0</td>\n",
       "    </tr>\n",
       "    <tr>\n",
       "      <th>0733001998</th>\n",
       "      <td>0</td>\n",
       "      <td>0</td>\n",
       "      <td>0</td>\n",
       "      <td>0</td>\n",
       "      <td>0</td>\n",
       "      <td>0</td>\n",
       "      <td>0</td>\n",
       "      <td>0</td>\n",
       "      <td>0</td>\n",
       "      <td>0</td>\n",
       "      <td>...</td>\n",
       "      <td>0</td>\n",
       "      <td>0</td>\n",
       "      <td>0</td>\n",
       "      <td>0</td>\n",
       "      <td>0</td>\n",
       "      <td>0</td>\n",
       "      <td>0</td>\n",
       "      <td>0</td>\n",
       "      <td>0</td>\n",
       "      <td>0</td>\n",
       "    </tr>\n",
       "    <tr>\n",
       "      <th>0737104473</th>\n",
       "      <td>0</td>\n",
       "      <td>0</td>\n",
       "      <td>0</td>\n",
       "      <td>0</td>\n",
       "      <td>0</td>\n",
       "      <td>0</td>\n",
       "      <td>0</td>\n",
       "      <td>0</td>\n",
       "      <td>0</td>\n",
       "      <td>0</td>\n",
       "      <td>...</td>\n",
       "      <td>0</td>\n",
       "      <td>0</td>\n",
       "      <td>0</td>\n",
       "      <td>0</td>\n",
       "      <td>0</td>\n",
       "      <td>0</td>\n",
       "      <td>0</td>\n",
       "      <td>0</td>\n",
       "      <td>0</td>\n",
       "      <td>0</td>\n",
       "    </tr>\n",
       "    <tr>\n",
       "      <th>0762451459</th>\n",
       "      <td>0</td>\n",
       "      <td>0</td>\n",
       "      <td>0</td>\n",
       "      <td>0</td>\n",
       "      <td>0</td>\n",
       "      <td>0</td>\n",
       "      <td>0</td>\n",
       "      <td>0</td>\n",
       "      <td>0</td>\n",
       "      <td>0</td>\n",
       "      <td>...</td>\n",
       "      <td>0</td>\n",
       "      <td>0</td>\n",
       "      <td>0</td>\n",
       "      <td>0</td>\n",
       "      <td>0</td>\n",
       "      <td>0</td>\n",
       "      <td>0</td>\n",
       "      <td>0</td>\n",
       "      <td>0</td>\n",
       "      <td>0</td>\n",
       "    </tr>\n",
       "  </tbody>\n",
       "</table>\n",
       "<p>5 rows × 9697 columns</p>\n",
       "</div>"
      ],
      "text/plain": [
       "UserId      A00205921JHJK5X9LNP42  A024581134CV80ZBLIZTZ   \n",
       "ProductId                                                  \n",
       "0205616461                      0                      0  \\\n",
       "0558925278                      0                      0   \n",
       "0733001998                      0                      0   \n",
       "0737104473                      0                      0   \n",
       "0762451459                      0                      0   \n",
       "\n",
       "UserId      A03056581JJIOL5FSKJY7  A03099101ZRK4K607JVHH   \n",
       "ProductId                                                  \n",
       "0205616461                      0                      0  \\\n",
       "0558925278                      0                      0   \n",
       "0733001998                      0                      0   \n",
       "0737104473                      0                      0   \n",
       "0762451459                      0                      0   \n",
       "\n",
       "UserId      A0505229A7NSH3FRXRR4  A05492663T95KW63BR75K   \n",
       "ProductId                                                 \n",
       "0205616461                     0                      0  \\\n",
       "0558925278                     0                      0   \n",
       "0733001998                     0                      0   \n",
       "0737104473                     0                      0   \n",
       "0762451459                     0                      0   \n",
       "\n",
       "UserId      A059547920Q3LZVFHLPI3  A07410232KYRFR25CIUGJ   \n",
       "ProductId                                                  \n",
       "0205616461                      0                      0  \\\n",
       "0558925278                      0                      0   \n",
       "0733001998                      0                      0   \n",
       "0737104473                      0                      0   \n",
       "0762451459                      0                      0   \n",
       "\n",
       "UserId      A082796624UNM47DSAI6K  A0864963DOAY7LXGS5I6  ...  AZW1HXXYAC15B   \n",
       "ProductId                                                ...                  \n",
       "0205616461                      0                     0  ...              0  \\\n",
       "0558925278                      0                     0  ...              0   \n",
       "0733001998                      0                     0  ...              0   \n",
       "0737104473                      0                     0  ...              0   \n",
       "0762451459                      0                     0  ...              0   \n",
       "\n",
       "UserId      AZWRTJPN7NXT  AZWTXHXZXFAYP  AZYQEFB9Y5N22  AZZHB6U54UDYW   \n",
       "ProductId                                                               \n",
       "0205616461             0              0              0              0  \\\n",
       "0558925278             0              0              0              0   \n",
       "0733001998             0              0              0              0   \n",
       "0737104473             0              0              0              0   \n",
       "0762451459             0              0              0              0   \n",
       "\n",
       "UserId      AZZHJZP4GQPPZ  AZZNK89PXD006  AZZOFVMQC0BJG  AZZQXL8VDCFTV   \n",
       "ProductId                                                                \n",
       "0205616461              0              0              0              0  \\\n",
       "0558925278              0              0              0              0   \n",
       "0733001998              0              0              0              0   \n",
       "0737104473              0              0              0              0   \n",
       "0762451459              0              0              0              0   \n",
       "\n",
       "UserId      AZZTJQ7CQZUD8  \n",
       "ProductId                  \n",
       "0205616461              0  \n",
       "0558925278              0  \n",
       "0733001998              0  \n",
       "0737104473              0  \n",
       "0762451459              0  \n",
       "\n",
       "[5 rows x 9697 columns]"
      ]
     },
     "execution_count": 33,
     "metadata": {},
     "output_type": "execute_result"
    }
   ],
   "source": [
    "# show the matrix after trasposing it\n",
    "Matrix.head()"
   ]
  },
  {
   "cell_type": "code",
   "execution_count": 34,
   "id": "dbb87cb3",
   "metadata": {},
   "outputs": [
    {
     "data": {
      "text/plain": [
       "(886, 9697)"
      ]
     },
     "execution_count": 34,
     "metadata": {},
     "output_type": "execute_result"
    }
   ],
   "source": [
    "# check the shape of matrix after trasposing it\n",
    "Matrix.shape"
   ]
  },
  {
   "cell_type": "markdown",
   "id": "90b44c95",
   "metadata": {},
   "source": [
    "As we can see, the shape of matrix has chnged to 886 rows and 9697 columns after trasposing it. "
   ]
  },
  {
   "cell_type": "code",
   "execution_count": 35,
   "id": "80c21664",
   "metadata": {},
   "outputs": [],
   "source": [
    "# reduce the dimension of matrix\n",
    "SVD = TruncatedSVD(n_components=10)\n",
    "reduced_matrix = SVD.fit_transform(Matrix)"
   ]
  },
  {
   "cell_type": "code",
   "execution_count": 36,
   "id": "aa16052f",
   "metadata": {},
   "outputs": [
    {
     "data": {
      "text/plain": [
       "(886, 10)"
      ]
     },
     "execution_count": 36,
     "metadata": {},
     "output_type": "execute_result"
    }
   ],
   "source": [
    "# check the shape after we reduced the dimensions\n",
    "reduced_matrix.shape"
   ]
  },
  {
   "cell_type": "markdown",
   "id": "a64f5fb1",
   "metadata": {},
   "source": [
    "As we can see, after applying the TruncatedSVD on the matrix to reduce the dimensions, the shape became 886 rows and 10 columns."
   ]
  },
  {
   "cell_type": "markdown",
   "id": "aff85beb",
   "metadata": {},
   "source": [
    "#### **Correlation Matrix**\n"
   ]
  },
  {
   "cell_type": "code",
   "execution_count": 37,
   "id": "f2e8b61e",
   "metadata": {},
   "outputs": [],
   "source": [
    "# determine the correlation coefficient\n",
    "corr_matrix = np.corrcoef(reduced_matrix)"
   ]
  },
  {
   "cell_type": "code",
   "execution_count": 38,
   "id": "3f04ddf1",
   "metadata": {},
   "outputs": [
    {
     "data": {
      "text/plain": [
       "(886, 886)"
      ]
     },
     "execution_count": 38,
     "metadata": {},
     "output_type": "execute_result"
    }
   ],
   "source": [
    "# check the shape of corr_matrix\n",
    "corr_matrix.shape"
   ]
  },
  {
   "cell_type": "markdown",
   "id": "001bc7e9",
   "metadata": {},
   "source": [
    "The shape of correlation matrix is 886 rows and 886 columns."
   ]
  },
  {
   "cell_type": "code",
   "execution_count": 39,
   "id": "2250b8dd",
   "metadata": {},
   "outputs": [
    {
     "data": {
      "text/plain": [
       "363"
      ]
     },
     "execution_count": 39,
     "metadata": {},
     "output_type": "execute_result"
    }
   ],
   "source": [
    "# choose an index to select ProductID randoly\n",
    "X = random.randint(0,corr_matrix.shape[0])\n",
    "X"
   ]
  },
  {
   "cell_type": "code",
   "execution_count": 41,
   "id": "23cf217e",
   "metadata": {},
   "outputs": [
    {
     "data": {
      "text/plain": [
       "'9790778260'"
      ]
     },
     "execution_count": 41,
     "metadata": {},
     "output_type": "execute_result"
    }
   ],
   "source": [
    "# display the ProductID that corresponding to the index\n",
    "prod_ID = Matrix.index[X]\n",
    "prod_ID"
   ]
  },
  {
   "cell_type": "markdown",
   "id": "8b1a3aba",
   "metadata": {},
   "source": [
    "The ID of the product that the customer has purchased is 9790778260."
   ]
  },
  {
   "cell_type": "code",
   "execution_count": 42,
   "id": "eb9c4267",
   "metadata": {},
   "outputs": [
    {
     "data": {
      "text/plain": [
       "array([-0.26376362, -0.86011219,  0.96762429, -0.99100247, -0.97137646,\n",
       "       -0.49076889, -0.6738205 ,  0.93858021, -0.48997693,  0.83066297,\n",
       "       -0.6738205 ,  0.82814502, -0.67586732, -0.54665728, -0.49076889,\n",
       "       -0.6738205 , -0.6738205 , -0.85097643, -0.67586638, -0.63971497,\n",
       "        0.80785492,  0.96788217, -0.67937641,  0.82766126,  0.80988893,\n",
       "       -0.84228641, -0.84594093, -0.573715  ,  0.82766126, -0.83740897,\n",
       "       -0.83571558, -0.49148077, -0.73565135, -0.84208584,  0.82799396,\n",
       "       -0.49076889, -0.84208584, -0.36539632, -0.48934314, -0.57447718,\n",
       "       -0.57446064, -0.84228641, -0.49120709, -0.49076889, -0.49076889,\n",
       "       -0.49076889,  0.82766126, -0.49076889, -0.4901443 , -0.57447718,\n",
       "       -0.96371937,  0.99176746, -0.84865891,  0.7093521 , -0.3049681 ,\n",
       "        0.87560873,  0.92419619, -0.76272535, -0.89808653,  0.98319436,\n",
       "        0.96711137, -0.98874953,  0.93286345,  0.73090854,  0.02538089,\n",
       "        0.86843263,  0.16679514,  0.53567431, -0.25740279,  0.99722884,\n",
       "       -0.8131142 , -0.8083408 ,  0.99720432,  0.95832121,  0.47424785,\n",
       "       -0.45905015,  0.89860357, -0.78350923, -0.02861567,  0.80772613,\n",
       "       -0.90105695, -0.99626595, -0.86601578, -0.90031666, -0.77706201,\n",
       "       -0.76638459,  0.72496148,  0.57228544, -0.56485922,  0.94858614,\n",
       "        0.53667415, -0.13781093,  0.49354773,  0.93782617, -0.94407813,\n",
       "        0.99342473,  0.99302556,  0.99311453,  0.11821878,  0.97865474,\n",
       "        0.63979575, -0.85141305, -0.96773682, -0.40154381, -0.99225369,\n",
       "       -0.63984249, -0.83780571, -0.02770634, -0.98898859, -0.4882274 ,\n",
       "       -0.46187968,  0.26662308,  0.78397999, -0.32021548,  0.2182343 ,\n",
       "        0.40991865, -0.67062571,  0.83701803,  0.29317712, -0.96509289,\n",
       "        0.96193774,  0.71780198,  0.89138062,  0.98321069, -0.95513351,\n",
       "        0.99168416, -0.12600164,  0.98814732,  0.89690219,  0.70788015,\n",
       "       -0.13758151,  0.88143858, -0.88081464,  0.94776641, -0.24309144,\n",
       "        0.98418394,  0.69351169,  0.68817072, -0.42985259,  0.90033566,\n",
       "       -0.76916613, -0.68010408, -0.71739982, -0.9823034 , -0.40694664,\n",
       "        0.98551056, -0.86288086,  0.98648064, -0.91106176,  0.03328567,\n",
       "        0.01608364,  0.96470707, -0.94501419,  0.95964228,  0.55451912,\n",
       "        0.65648376, -0.83663904, -0.92140723, -0.59564861,  0.59756967,\n",
       "       -0.14903411, -0.83764949,  0.84795121, -0.87501678, -0.89080661,\n",
       "        0.70446955, -0.80879119, -0.44036803,  0.92759865, -0.86314494,\n",
       "        0.59533942, -0.75750204,  0.97499663, -0.89387017, -0.656988  ,\n",
       "       -0.2760319 , -0.84713944,  0.58251569, -0.99315325, -0.93700064,\n",
       "       -0.80465592,  0.46487578, -0.86179592,  0.79944952, -0.90279846,\n",
       "        0.73835427, -0.14327665, -0.94819979,  0.10709166, -0.94441864,\n",
       "       -0.4688664 ,  0.98995157, -0.77663265,  0.93954481,  0.99332176,\n",
       "       -0.09683766,  0.47401885, -0.95905482, -0.71441052,  0.32034874,\n",
       "       -0.94685778, -0.90279845, -0.88967949, -0.05124112,  0.78042338,\n",
       "        0.77274229, -0.8861462 ,  0.58180824, -0.64575474,  0.29633921,\n",
       "        0.94167934,  0.15823376, -0.5224074 , -0.96238322,  0.04152256,\n",
       "       -0.61157794, -0.62189045, -0.94830535,  0.98360676,  0.98497078,\n",
       "       -0.34800916,  0.88783444,  0.44649678, -0.16244261,  0.99231275,\n",
       "       -0.52220848,  0.90605567,  0.5891877 , -0.95154749, -0.31575904,\n",
       "       -0.96055304, -0.45850817, -0.6569917 , -0.94763027, -0.66439484,\n",
       "        0.940946  , -0.78274701,  0.99225841,  0.85239673,  0.99398014,\n",
       "       -0.9433572 , -0.95801246, -0.94620622, -0.91725959,  0.94131459,\n",
       "        0.980488  ,  0.1064096 ,  0.98857622, -0.89926617,  0.79853894,\n",
       "        0.98719418,  0.97559211,  0.981072  ,  0.99358891,  0.85155114,\n",
       "        0.97128121,  0.93137164, -0.99463906,  0.63121837,  0.84204483,\n",
       "        0.8579318 ,  0.19893014, -0.97509697,  0.95672254,  0.99141812,\n",
       "       -0.83647664,  0.87395634, -0.00613204, -0.19229085,  0.99161051,\n",
       "       -0.97588595,  0.48228814,  0.80209603, -0.920771  ,  0.99934574,\n",
       "       -0.75501693,  0.49623995, -0.59642712,  0.89581095,  0.05991007,\n",
       "        0.99662396, -0.91802966,  0.92315164,  0.86835541, -0.68051879,\n",
       "       -0.6602105 , -0.91842816, -0.88645471,  0.82110118, -0.7562306 ,\n",
       "        0.1145998 , -0.44137495, -0.6800894 , -0.83018589, -0.6168033 ,\n",
       "        0.99371572,  0.25738656, -0.98938175, -0.80117742, -0.23491757,\n",
       "        0.94968778, -0.97570333,  0.50897   ,  0.95096324,  0.09759113,\n",
       "       -0.80901864,  0.81892266, -0.99470542, -0.94614822, -0.96425665,\n",
       "       -0.38978196,  0.97143695, -0.97885154,  0.63587298, -0.95765664,\n",
       "        0.43256208, -0.35013041, -0.88063715,  0.44391605, -0.18515513,\n",
       "       -0.98276948,  0.53440823,  0.61070466,  0.99678278,  0.96479702,\n",
       "        0.81090148, -0.97667687,  0.91325373,  0.89176124, -0.59063854,\n",
       "        0.97945669,  0.23020999,  0.71458707,  0.94409489, -0.58429184,\n",
       "       -0.96296146, -0.53455905,  0.08087784,  0.96714645,  0.8104884 ,\n",
       "       -0.36009425, -0.93666252,  0.82043552,  0.15245099,  0.84017851,\n",
       "        0.41574363,  0.93180695, -0.98567264, -0.80212031, -0.69619444,\n",
       "        0.99547163,  0.98791045,  0.77233797,  0.53344045,  0.25323551,\n",
       "       -0.62588032, -0.61905013, -0.87309788,  0.6350318 ,  0.99021832,\n",
       "       -0.82021216,  0.98969169,  0.93399844,  1.        , -0.92755119,\n",
       "       -0.98934706,  0.91539859, -0.92472775,  0.95703183, -0.78856492,\n",
       "        0.89945204,  0.79769941, -0.63764225, -0.15757253, -0.56823734,\n",
       "       -0.98570242,  0.80440352,  0.93562568, -0.79855985, -0.97011156,\n",
       "        0.63179963, -0.86490552,  0.90737894, -0.74992984,  0.33786457,\n",
       "       -0.99542743, -0.76742279,  0.13019065, -0.36718509, -0.9802206 ,\n",
       "        0.84277072, -0.58124424, -0.2931775 ,  0.0381051 ,  0.87395632,\n",
       "       -0.97524479, -0.97534097,  0.99934543,  0.97981374, -0.78593405,\n",
       "        0.73577043, -0.99342578,  0.47536547, -0.50975084,  0.93302491,\n",
       "       -0.88541534,  0.28173242,  0.99019298,  0.97853792, -0.92541719,\n",
       "       -0.17277252,  0.69295284, -0.98172897,  0.9254691 ,  0.98195463,\n",
       "       -0.98172897, -0.22943229,  0.98376104, -0.82893769, -0.97504165,\n",
       "        0.15888802, -0.42297427, -0.95978279, -0.46973163, -0.60418002,\n",
       "        0.94822833,  0.9865235 ,  0.96395557, -0.55155172, -0.37120123,\n",
       "       -0.07742362, -0.97877226,  0.93570089,  0.30061134, -0.02633164,\n",
       "        0.89566436,  0.801095  ,  0.98361136,  0.46206208, -0.45257689,\n",
       "       -0.99020654, -0.86000805, -0.39554178, -0.96339362,  0.84232563,\n",
       "       -0.94271103,  0.99356407,  0.99248037, -0.52213396,  0.79965569,\n",
       "       -0.90160403, -0.77841822, -0.99171201,  0.90088596,  0.90990855,\n",
       "        0.98303568, -0.90745291, -0.95617626,  0.90418413, -0.82088363,\n",
       "       -0.97632274, -0.908059  ,  0.97699439, -0.63585098, -0.9666179 ,\n",
       "        0.89869832,  0.98652138, -0.97175498, -0.9040569 ,  0.65865373,\n",
       "       -0.83774274,  0.91983769,  0.79402262, -0.12380321,  0.04607045,\n",
       "       -0.75958899, -0.99205822, -0.94234074, -0.29587458, -0.95708233,\n",
       "        0.60503591,  0.53923843, -0.86311807, -0.45481307, -0.9963982 ,\n",
       "       -0.77850848, -0.94177244,  0.98196326, -0.97486007, -0.26978644,\n",
       "       -0.82708248, -0.8065056 , -0.94314763,  0.75556763,  0.97330692,\n",
       "        0.96619914,  0.9943136 , -0.95497282, -0.1383431 ,  0.8476204 ,\n",
       "       -0.16341838, -0.72738518,  0.91254848,  0.99702486,  0.94101529,\n",
       "       -0.43365856, -0.43323644, -0.95868403,  0.67194722, -0.95033767,\n",
       "        0.68986631,  0.04353166, -0.38858024,  0.80411204, -0.4861436 ,\n",
       "        0.90493616, -0.17896343, -0.96931197, -0.88835796,  0.91092776,\n",
       "        0.83289006, -0.43303737, -0.96010916, -0.35738732, -0.96792554,\n",
       "        0.68664416, -0.66130284, -0.01774595,  0.77045786,  0.92283255,\n",
       "        0.87863293, -0.85581601, -0.97094014, -0.4042561 ,  0.96663217,\n",
       "        0.7057095 , -0.51287145, -0.91761005,  0.97396453,  0.83002572,\n",
       "       -0.73662429, -0.90519781,  0.82715962,  0.07143566,  0.8115773 ,\n",
       "       -0.99283445,  0.88813472, -0.1386    ,  0.63902896,  0.45822991,\n",
       "       -0.95466147, -0.67300817, -0.83071905,  0.93520589, -0.70566163,\n",
       "       -0.48811737, -0.93327031, -0.78250487,  0.79143612, -0.43457432,\n",
       "       -0.97083346,  0.9511223 , -0.72428626, -0.43771474,  0.21695792,\n",
       "       -0.87845065,  0.52933429,  0.18072593,  0.72983778,  0.86930066,\n",
       "       -0.99446832, -0.90995868,  0.46712868,  0.75950091,  0.91937201,\n",
       "       -0.91232428, -0.72504675, -0.86244623,  0.99393032, -0.83756335,\n",
       "        0.21948743,  0.4660536 , -0.00447334,  0.57773764, -0.6168968 ,\n",
       "        0.70933321,  0.21812814,  0.9408472 , -0.86924286,  0.39958401,\n",
       "        0.80596852,  0.88911747, -0.84698948,  0.78586717, -0.66451631,\n",
       "       -0.94642348,  0.7854461 ,  0.85763236,  0.74317495, -0.02658387,\n",
       "       -0.38212642,  0.02248852, -0.93451584,  0.5641752 ,  0.49033358,\n",
       "       -0.93012554,  0.99482341,  0.0333718 , -0.92225269,  0.2054787 ,\n",
       "        0.79379548, -0.01594915, -0.76998953, -0.41956539,  0.95093939,\n",
       "       -0.91012526, -0.22924148,  0.99176455,  0.95131985,  0.73747627,\n",
       "        0.97886935, -0.09461269,  0.92003864,  0.97982277, -0.950557  ,\n",
       "        0.83526509,  0.71918821,  0.9062995 ,  0.97107632, -0.70042705,\n",
       "        0.98443362, -0.95070924, -0.64839266,  0.81344291, -0.96558459,\n",
       "       -0.33295259, -0.85468446,  0.8741094 ,  0.62691708,  0.75585383,\n",
       "       -0.7590911 , -0.51801312, -0.97746318, -0.97744238,  0.47108172,\n",
       "       -0.00760407,  0.81040295, -0.9282141 ,  0.32611635,  0.95010759,\n",
       "       -0.97326003,  0.04092065,  0.67389706, -0.92829513, -0.66316373,\n",
       "       -0.95884519, -0.61544141, -0.87374614,  0.87010762, -0.14531706,\n",
       "        0.78503928, -0.94168739, -0.79320671,  0.9804767 , -0.03252665,\n",
       "        0.91483525, -0.87374619, -0.22432303,  0.45886677, -0.49385843,\n",
       "        0.70293298,  0.90754601, -0.19698541, -0.03517151, -0.08659166,\n",
       "       -0.86683071,  0.72857779, -0.79210693, -0.68640425, -0.96760772,\n",
       "       -0.13783135, -0.57255876,  0.9804767 , -0.90394548,  0.8824066 ,\n",
       "        0.95931544,  0.16505459,  0.47434895, -0.67634727, -0.2435195 ,\n",
       "       -0.98627347,  0.20621962,  0.79642816,  0.94773539, -0.52373879,\n",
       "        0.16136049,  0.52990265, -0.72420508, -0.03942767,  0.89700381,\n",
       "       -0.6123092 , -0.07911474,  0.93457156,  0.78330046, -0.14699848,\n",
       "        0.62568663,  0.58073337,  0.95269753,  0.96988333,  0.91361722,\n",
       "        0.37183126,  0.89503412,  0.35823587,  0.66156373, -0.80849852,\n",
       "        0.98470735,  0.64399454, -0.73196213,  0.93985076, -0.12644468,\n",
       "        0.75519463, -0.93111164, -0.75268664,  0.04339718, -0.94503754,\n",
       "        0.14479472, -0.99653468, -0.94799494,  0.66262267,  0.58577544,\n",
       "       -0.09683766, -0.02119738,  0.55511467, -0.23268435, -0.3312422 ,\n",
       "       -0.98733337, -0.79813092, -0.92510619,  0.51837648,  0.56252665,\n",
       "       -0.14871967,  0.44311541,  0.72549121,  0.80623327, -0.88943018,\n",
       "        0.8445024 , -0.1334126 , -0.90004066,  0.97754731,  0.97754721,\n",
       "        0.98638194,  0.43436867, -0.53741816,  0.96916637, -0.13205776,\n",
       "       -0.9846636 ,  0.05614431,  0.98400844, -0.96639913, -0.83161992,\n",
       "        0.56482041,  0.41895417, -0.17461421, -0.53410614, -0.32831897,\n",
       "       -0.45143247, -0.96364375,  0.93829015,  0.07859325, -0.74325559,\n",
       "        0.77719062, -0.12568852,  0.87244103,  0.87391935, -0.13220974,\n",
       "        0.60728994, -0.16536463,  0.94893892,  0.08758259, -0.74381699,\n",
       "       -0.963756  ,  0.99076377, -0.90463597,  0.99149934, -0.84688809,\n",
       "        0.81825116, -0.84760983, -0.91976772, -0.32466888,  0.7385873 ,\n",
       "       -0.42356514,  0.61620789, -0.59617713,  0.90465447,  0.92086114,\n",
       "       -0.91835549, -0.63935655, -0.15093181,  0.94445007,  0.97349012,\n",
       "        0.89392771,  0.20455232,  0.18527208, -0.11444269,  0.08816571,\n",
       "        0.17714558,  0.17525865,  0.99614724, -0.4149089 ,  0.3723332 ,\n",
       "       -0.98404184,  0.40377366,  0.04102453,  0.68409297, -0.71633209,\n",
       "        0.93200555,  0.07275972,  0.05368298,  0.90761107,  0.89271748,\n",
       "        0.22953108, -0.07569519, -0.01602812, -0.43571748, -0.02919765,\n",
       "       -0.96525674, -0.5199907 ,  0.96612791,  0.98481673,  0.28921145,\n",
       "        0.11334058,  0.28081996,  0.76157333,  0.89326464, -0.20699144,\n",
       "        0.32175262,  0.65764101,  0.59151246, -0.97324063, -0.9687678 ,\n",
       "        0.9052677 ,  0.64058636, -0.2564351 , -0.19116545, -0.00731189,\n",
       "       -0.36142291, -0.27391307, -0.63496345, -0.96592427, -0.98244338,\n",
       "        0.64256927,  0.98942767, -0.19094412, -0.98863421,  0.71541827,\n",
       "       -0.50204913, -0.96265414,  0.90534701, -0.32102129, -0.66031903,\n",
       "       -0.25266789,  0.087654  ,  0.08822561,  0.04504087, -0.9832349 ,\n",
       "        0.08532621, -0.64187651, -0.9819681 ,  0.98421531,  0.97822526,\n",
       "       -0.89831623, -0.73781849,  0.87034423, -0.14198735, -0.68135883,\n",
       "       -0.81142442, -0.95375415,  0.35105281,  0.64850691,  0.75847528,\n",
       "       -0.06069574, -0.72056837, -0.6956627 , -0.30932146,  0.76991435,\n",
       "        0.33255776])"
      ]
     },
     "execution_count": 42,
     "metadata": {},
     "output_type": "execute_result"
    }
   ],
   "source": [
    "# show all the similar products to the item that the user purchase\n",
    "corr_prod_ID = corr_matrix[X]\n",
    "corr_prod_ID"
   ]
  },
  {
   "cell_type": "markdown",
   "id": "fe81144d",
   "metadata": {},
   "source": [
    "- The goal is to find all the products that are frequently purchased together with the items the customer has bought. \n",
    "\n",
    "- By identifying these correlated products, we can recommend additional purchase options to the customer that they may also be interested in, based on their initial purchases. \n",
    "\n",
    "- Rather than recommending random items, we want to suggest products that tend to be purchased together or appeal to similar interests or needs. Looking at correlation helps identify these complementary or related products to recommend."
   ]
  },
  {
   "cell_type": "code",
   "execution_count": 43,
   "id": "6f59e556",
   "metadata": {},
   "outputs": [],
   "source": [
    "# show similar products based on the purchase history of other users \n",
    "corr_prod = list(Matrix.index[corr_prod_ID > 0.90])\n",
    "\n",
    "# remove the item already bought by the user\n",
    "corr_prod.remove(prod_ID) "
   ]
  },
  {
   "cell_type": "code",
   "execution_count": 44,
   "id": "1bb5ef52",
   "metadata": {},
   "outputs": [
    {
     "data": {
      "text/plain": [
       "['0733001998',\n",
       " '130414089X',\n",
       " '1304482634',\n",
       " '1412759676',\n",
       " '1906987238',\n",
       " '3222000565',\n",
       " '322700075X',\n",
       " '3227001381',\n",
       " '4057362894']"
      ]
     },
     "execution_count": 44,
     "metadata": {},
     "output_type": "execute_result"
    }
   ],
   "source": [
    "# top 10 highly recommended products to the customer in sequence\n",
    "corr_prod[0:9]"
   ]
  },
  {
   "cell_type": "markdown",
   "id": "46588471",
   "metadata": {},
   "source": [
    "- The recommendation system analyzed what items tend to be bought together or by similar customers to identify the top 10 products likely to be of interest to this particular customer. \n",
    "\n",
    "- The goal is to display the 10 products this customer is most likely to purchase, based on their initial purchases as well as the wisdom of the crowd from all other customer data. \n",
    "\n",
    "- The system predicts this customer will be most interested in these 10 ecommended products out of all the available options on the website. "
   ]
  },
  {
   "cell_type": "code",
   "execution_count": null,
   "id": "0c288b58",
   "metadata": {},
   "outputs": [],
   "source": []
  }
 ],
 "metadata": {
  "kernelspec": {
   "display_name": "Python 3 (ipykernel)",
   "language": "python",
   "name": "python3"
  },
  "language_info": {
   "codemirror_mode": {
    "name": "ipython",
    "version": 3
   },
   "file_extension": ".py",
   "mimetype": "text/x-python",
   "name": "python",
   "nbconvert_exporter": "python",
   "pygments_lexer": "ipython3",
   "version": "3.9.16"
  },
  "papermill": {
   "default_parameters": {},
   "duration": 24.839409,
   "end_time": "2021-10-04T12:30:03.877653",
   "environment_variables": {},
   "exception": null,
   "input_path": "__notebook__.ipynb",
   "output_path": "__notebook__.ipynb",
   "parameters": {},
   "start_time": "2021-10-04T12:29:39.038244",
   "version": "2.3.3"
  }
 },
 "nbformat": 4,
 "nbformat_minor": 5
}
