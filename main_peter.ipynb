{
 "cells": [
  {
   "cell_type": "markdown",
   "id": "5ce4d599",
   "metadata": {},
   "source": [
    "## **PETER4REC Model**"
   ]
  },
  {
   "cell_type": "markdown",
   "id": "f5fe4090",
   "metadata": {},
   "source": [
    "- **PeterRec** is a transfer learning architecture that was developed to address the issue of parameter inefficiency in fine-tuning large pretrained neural networks for downstream tasks.\n",
    "\n",
    "- The idea behind **PeterRec** is to retain the knowledge of the pretrained network while minimizing the number of parameters that need to be optimized during the fine-tuning process. This is achieved by using a technique called **\"parameter-efficient transfer learning,\"** which involves selectively freezing and unfreezing layers of the pretrained network during fine-tuning.\n",
    "\n",
    "- In this notebbok, I'll be using a **ratings_Beauty.csv** dataset from the Amazon Reviews data source. The dataset has four main attributes: UserID, ProductID, Rating, and Timestamp. The UserID is a one-of-a-kind identifier for each person, whereas the ProductID is a one-of-a-kind identifier for each product. The Rating property represents the rating given by a certain user for a particular product. Finally, the timestamp element keeps track of when the rating was supplied, it is from kaggle: https://www.kaggle.com/datasets/skillsmuggler/amazon-ratings."
   ]
  },
  {
   "cell_type": "markdown",
   "id": "2f46c48d",
   "metadata": {},
   "source": [
    "## **Import libraries**"
   ]
  },
  {
   "cell_type": "code",
   "execution_count": 25,
   "id": "61892588",
   "metadata": {},
   "outputs": [],
   "source": [
    "# import sys\n",
    "# dir_path = # put the working dir (e.g., 'Cold-start-Recommendation-System' )\n",
    "# if dir_path not in sys.path:\n",
    "#     sys.path += [dir_path]\n",
    "\n",
    "# sys.path "
   ]
  },
  {
   "cell_type": "code",
   "execution_count": 2,
   "id": "9cacf7fb",
   "metadata": {
    "papermill": {
     "duration": 0.02771,
     "end_time": "2023-07-27T14:48:15.216867",
     "exception": false,
     "start_time": "2023-07-27T14:48:15.189157",
     "status": "completed"
    },
    "tags": []
   },
   "outputs": [
    {
     "name": "stderr",
     "output_type": "stream",
     "text": [
      "2023-07-28 20:32:29.493120: I tensorflow/core/platform/cpu_feature_guard.cc:182] This TensorFlow binary is optimized to use available CPU instructions in performance-critical operations.\n",
      "To enable the following instructions: AVX2 FMA, in other operations, rebuild TensorFlow with the appropriate compiler flags.\n",
      "2023-07-28 20:32:30.204049: W tensorflow/compiler/tf2tensorrt/utils/py_utils.cc:38] TF-TRT Warning: Could not find TensorRT\n"
     ]
    }
   ],
   "source": [
    "# import needed libraries\n",
    "import numpy as np\n",
    "import pandas as pd\n",
    "import os\n",
    "from sklearn.preprocessing import LabelEncoder\n",
    "from torch.utils.tensorboard import SummaryWriter\n",
    "from peter4pytorch import Peter4Coldstart\n",
    "from  preprocesing import *\n",
    "from train import *\n",
    "import argparse\n",
    "import random\n",
    "import torch\n",
    "import json\n",
    "import joblib\n",
    "import pickle\n",
    "import torch.utils.data as data_utils\n",
    "import scipy.sparse as sp\n",
    "from pathlib import Path\n",
    "from sklearn.metrics import log_loss, roc_auc_score\n",
    "from torch.utils.data.distributed import DistributedSampler\n",
    "from sklearn.model_selection import train_test_split\n",
    "from tqdm import tqdm\n",
    "from copy import deepcopy\n",
    "import time\n",
    "import torch.nn as nn\n",
    "import torch.nn.utils.prune as prune"
   ]
  },
  {
   "cell_type": "code",
   "execution_count": 3,
   "id": "ec6a8d0b",
   "metadata": {
    "papermill": {
     "duration": 0.015694,
     "end_time": "2023-07-27T14:48:15.239059",
     "exception": false,
     "start_time": "2023-07-27T14:48:15.223365",
     "status": "completed"
    },
    "tags": []
   },
   "outputs": [],
   "source": [
    "def set_seed(seed, re=True):\n",
    "    random.seed(seed)\n",
    "    os.environ['PYTHONHASHSEED'] = str(seed)\n",
    "    np.random.seed(seed)\n",
    "    torch.manual_seed(seed)\n",
    "    torch.cuda.manual_seed(seed)\n",
    "    torch.cuda.manual_seed_all(seed) # if you are using multi-GPU.\n",
    "    if re:\n",
    "        torch.backends.cudnn.benchmark = False\n",
    "        torch.backends.cudnn.deterministic = True\n",
    "    else:\n",
    "        torch.backends.cudnn.benchmark = True\n",
    "        torch.backends.cudnn.deterministic = False"
   ]
  },
  {
   "cell_type": "markdown",
   "id": "e5894256",
   "metadata": {},
   "source": [
    "## **Arguments**"
   ]
  },
  {
   "cell_type": "markdown",
   "id": "52897f77",
   "metadata": {},
   "source": [
    "- **seed**: The random seed used for reproducibility.\n",
    "- **task_name**: The name of the task being performed, specifically for cold start recommendation.\n",
    "- **task_num**: The number of tasks being performed.\n",
    "- **source_path**: The file path for the source data used in transfer learning.\n",
    "- **target_path**: The file path for the target data used in transfer learning.\n",
    "- **train_batch_size**: Batch size for training data.\n",
    "- **val_batch_size**: Batch size for validation data.\n",
    "- **test_batch_size**: Batch size for testing data.\n",
    "- **sample**: The sampling strategy used to create the dataset.\n",
    "- **max_len**: The maximum length of the input sequence.\n",
    "- **item_min**: The minimum number of times an item should occur to be included in the dataset.\n",
    "- **save_path**: The directory path to save the model checkpoint.\n",
    "- **task**: The task identifier.\n",
    "- **valid_rate**: The rate at which the validation is performed during training.\n",
    "- **device**: The device to be used for training ('cuda' or 'cpu').\n",
    "- **is_parallel**: A flag indicating whether to use multiple GPUs for training.\n",
    "- **weight_decay**: The L2 regularization strength.\n",
    "- **decay_step**: The decay step for StepLR.\n",
    "- **gamma**: The gamma value for StepLR.\n",
    "- **num_items**: The total number of items.\n",
    "- **target_num**: The total number of target items for each user.\n",
    "- **num_embedding**: The total number of source items.\n",
    "- **k**: The number of items to measure the NDC@k metric (e.g., NDC@10).\n",
    "- **metric_ks**: A list of integers specifying the ks for Metric@k evaluation.\n",
    "- **best_metric**: The metric used to determine the best model (e.g., 'NDCG@20').\n",
    "- **embedding_size**: The embedding size used in the model (for Nextitnet).\n",
    "- **dilations**: A list of integers specifying the dilations for Nextitnet.\n",
    "- **kernel_size**: The kernel size used in Nextitnet.\n",
    "- **is_mp**: A flag indicating whether to use max-pooling in Nextitnet.\n",
    "- **pad_token**: The padding token used in the input sequence.\n",
    "- **temp**: The temperature used in Nextitnet."
   ]
  },
  {
   "cell_type": "markdown",
   "id": "d6dc43dc",
   "metadata": {},
   "source": [
    "**The following arguments are specifically related to the PETER model:**\n",
    "\n",
    "- **is_pretrain**: An integer argument (0, 1, or 2) specifying the type of transfer learning to use with the PETER model. 0: mean transfer, 1: mean pretrain, 2: mean train the full model without transfer.\n",
    "- **model_name**: A string argument specifying the name of the PETER model. This argument is used to identify the specific PETER architecture to be used.\n",
    "- **epochs**: An integer argument representing the number of training epochs for the PETER model.\n",
    "- **lr**: A float argument representing the learning rate for the PETER model.\n",
    "- **hidden_size**: An integer argument specifying the size of hidden vectors in the PETER model.\n",
    "- **block_num**: An integer argument specifying the number of transformer layers in the PETER model.\n",
    "- **num_groups**: An integer argument specifying the number of transformer groups in the PETER model.\n",
    "- **num_heads**: An integer argument specifying the number of heads for multi-attention in the PETER model.\n",
    "- **dropout**: A float argument representing the dropout probability to use throughout the PETER model.\n",
    "- **factor_num**: An integer argument specifying the factor number for the PETER model.\n",
    "\n",
    "These arguments control various aspects of the PETER model architecture, such as the number of layers, hidden size, dropout rate, and learning rate, among others."
   ]
  },
  {
   "cell_type": "code",
   "execution_count": 5,
   "id": "a2c387ae",
   "metadata": {
    "papermill": {
     "duration": 0.041369,
     "end_time": "2023-07-27T14:48:15.287189",
     "exception": false,
     "start_time": "2023-07-27T14:48:15.245820",
     "status": "completed"
    },
    "tags": []
   },
   "outputs": [
    {
     "name": "stdout",
     "output_type": "stream",
     "text": [
      "Namespace(seed=0, task_name='cold_start', task_num=4, source_path='Tenrec/Beauty_ratings.csv', train_batch_size=16, val_batch_size=16, test_batch_size=16, sample='random', max_len=30, item_min=20, save_path='./checkpoint/', task=-1, valid_rate=100, is_pretrain=1, model_name='Peter4Coldstart', epochs=10, lr=0.001, device='cuda', is_parallel=False, weight_decay=0.0, decay_step=5, gamma=0.6, num_items=1, target_num=1, num_embedding=1, k=20, metric_ks=[5, 20], best_metric='NDCG@10', hidden_size=128, block_num=2, num_groups=2, num_heads=2, dropout=0.5, bert_mask_prob=0.5, factor_num=64, embedding_size=128, dilations=[1, 4], kernel_size=3, is_mp=False, pad_token=0, temp=10)\n"
     ]
    }
   ],
   "source": [
    "parser = argparse.ArgumentParser()\n",
    "\n",
    "parser.add_argument('--seed', type=int, default=0)\n",
    "parser.add_argument('--task_name', default='cold_start')\n",
    "parser.add_argument('--task_num', type=int, default=4)\n",
    "parser.add_argument('--source_path', type=str, default='Tenrec/Beauty_ratings.csv')\n",
    "parser.add_argument('--train_batch_size', type=int, default=16)\n",
    "parser.add_argument('--val_batch_size', type=int, default=16)\n",
    "parser.add_argument('--test_batch_size', type=int, default=16)\n",
    "parser.add_argument('--sample', type=str, default='random')\n",
    "parser.add_argument('--max_len', type=int, default=30)\n",
    "parser.add_argument('--item_min', type=int, default=20)\n",
    "parser.add_argument('--save_path', type=str, default='./checkpoint/')\n",
    "parser.add_argument('--task', type=int, default=-1)\n",
    "parser.add_argument('--valid_rate', type=int, default=100)\n",
    "\n",
    "#transfer learning\n",
    "parser.add_argument('--is_pretrain', type=int, default=1, help='0: mean transfer, 1: mean pretrain, 2:mean train full model without transfer')\n",
    "parser.add_argument('--model_name', default='Peter4Coldstart')\n",
    "parser.add_argument('--epochs', type=int, default=10)\n",
    "parser.add_argument('--lr', type=float, default=0.001)\n",
    "parser.add_argument('--device', default='cuda')  # cuda:0\n",
    "parser.add_argument('--is_parallel', type=bool, default=False)\n",
    "parser.add_argument('--weight_decay', type=float, default=0.0, help='l2 regularization') #0.008\n",
    "parser.add_argument('--decay_step', type=int, default=5, help='Decay step for StepLR')\n",
    "parser.add_argument('--gamma', type=float, default=0.6, help='Gamma for StepLR')\n",
    "parser.add_argument('--num_items', type=int, default=1, help='Number of total items')\n",
    "parser.add_argument('--target_num', type=int, default=1, help='Number of total target items for each user')\n",
    "parser.add_argument('--num_embedding', type=int, default=1, help='Number of total source items')\n",
    "parser.add_argument('--k', type=int, default=20, help='The number of items to measure the hit@k metric (i.e. hit@10 to see if the correct item is within the top 10 scores)')\n",
    "parser.add_argument('--metric_ks', nargs='+', type=int, default=[5, 20], help='ks for Metric@k')\n",
    "parser.add_argument('--best_metric', type=str, default='NDCG@10', help='Metric for determining the best model')\n",
    "\n",
    "#model param\n",
    "parser.add_argument('--hidden_size', type=int, default=128, help='Size of hidden vectors (model)')\n",
    "parser.add_argument('--block_num', type=int, default=2, help='Number of transformer layers')\n",
    "parser.add_argument('--num_groups', type=int, default=2, help='Number of transformer groups')\n",
    "parser.add_argument('--num_heads', type=int, default=2, help='Number of heads for multi-attention')\n",
    "parser.add_argument('--dropout', type=float, default=0.5,\n",
    "                    help='Dropout probability to use throughout the model')\n",
    "parser.add_argument('--bert_mask_prob', type=float, default=0.5,\n",
    "                    help='Probability for masking items in the training sequence')\n",
    "parser.add_argument('--factor_num', type=int, default=64)\n",
    "\n",
    "#Nextitnet\n",
    "parser.add_argument('--embedding_size', type=int, default=128, help='embedding_size for model')\n",
    "parser.add_argument('--dilations', type=int, default=[1, 4], help='Number of transformer layers')\n",
    "parser.add_argument('--kernel_size', type=int, default=3, help='Number of heads for multi-attention')\n",
    "parser.add_argument('--is_mp', type=bool, default=False, help='Number of heads for multi-attention')\n",
    "parser.add_argument('--pad_token', type=int, default=0)\n",
    "parser.add_argument('--temp', type=int, default=10)\n",
    "args = parser.parse_args(\"\")\n",
    "\n",
    "if args.is_parallel:\n",
    "        torch.distributed.init_process_group(backend=\"nccl\")\n",
    "        torch.cuda.set_device(args.local_rank)\n",
    "device = torch.device(args.device)\n",
    "# if 'bert' in args.model_name:\n",
    "set_seed(args.seed)\n",
    "writer = SummaryWriter()\n",
    "print(args)"
   ]
  },
  {
   "cell_type": "markdown",
   "id": "fa61a9c6",
   "metadata": {},
   "source": [
    "## **Model**"
   ]
  },
  {
   "cell_type": "markdown",
   "id": "862f2313",
   "metadata": {},
   "source": [
    "- Due to the **resources limitations**, such as low RAM and low GPU, make it difficult to execute the model with a lengthy training schedule. So, we have to limit the number of epochs and dataset size, which could have an impact on the model's performance to some degree.\n",
    "\n",
    "- I have set the number of epochs to **10 epochs**.\n",
    "\n",
    "- Also, I have choosen the **Rating 5** from our dataset, which is 80% from the dataset as a sample data to train it.\n",
    " \n",
    "- Although, it would be **ideal** to increase the number of epochs for the model to have more time to learn from the data and improve its convergence, but Unfortunately we can't because of the limited resources."
   ]
  },
  {
   "cell_type": "code",
   "execution_count": 13,
   "id": "ba24df08",
   "metadata": {
    "execution": {
     "iopub.execute_input": "2023-07-27T14:48:15.478070Z",
     "iopub.status.busy": "2023-07-27T14:48:15.477246Z",
     "iopub.status.idle": "2023-07-27T14:48:18.292599Z",
     "shell.execute_reply": "2023-07-27T14:48:18.291599Z"
    },
    "papermill": {
     "duration": 2.825242,
     "end_time": "2023-07-27T14:48:18.295107",
     "exception": false,
     "start_time": "2023-07-27T14:48:15.469865",
     "status": "completed"
    },
    "tags": []
   },
   "outputs": [],
   "source": [
    "# define take_sample due to the huge size of dataset\n",
    "    \n",
    "def take_sample(data_path):\n",
    "    df = pd.read_csv(data_path)\n",
    "    #train only the Rating = 5, which represents 80% of the dataset\n",
    "    df = df[df.Rating==5]\n",
    "    return df\n",
    "\n",
    "# Define the path to the source data file\n",
    "source_path = 'Tenrec/ratings_Beauty.csv'  \n",
    "sample_data = take_sample(source_path)"
   ]
  },
  {
   "cell_type": "markdown",
   "id": "b4a67785",
   "metadata": {},
   "source": [
    "### **Model's Evaluation Factors**"
   ]
  },
  {
   "cell_type": "markdown",
   "id": "bc1abe34",
   "metadata": {},
   "source": [
    "- **Recall** shows what percentage of relevant items the model can recommend. A higher recall means the model recommends more relevant things, which is usually better for recommendation models. A high recall ensures the model surfaces a wide range of relevant options.\n",
    "\n",
    "- **NDCG** takes into account where relevant recommendations appear in the ranked list. It gives more importance to highly relevant items at the top. A higher NDCG indicates the model ranks relevant items higher up, which is important for the model's effectiveness. Having relevant recommendations at the top improves performance.\n",
    "\n",
    "- **Training CE Loss** refers to the cross-entropy loss value of the training set after one epoch of training. Cross-entropy loss is a measure of the difference between the predicted and actual probability distributions.\n",
    "\n",
    "- The **one epoch train time** and **one epoch val time** indicate the time it took to complete one epoch of training and one epoch of validation, respectively in seconds.\n",
    "\n",
    "- The **train_time** and **val_time** are the sum of the individual epoch times."
   ]
  },
  {
   "cell_type": "markdown",
   "id": "1513fa3e",
   "metadata": {},
   "source": [
    "### **First way of preprocessing**"
   ]
  },
  {
   "cell_type": "code",
   "execution_count": 15,
   "id": "9fa11e5b",
   "metadata": {
    "execution": {
     "iopub.execute_input": "2023-07-27T14:48:18.344366Z",
     "iopub.status.busy": "2023-07-27T14:48:18.344101Z",
     "iopub.status.idle": "2023-07-27T18:50:29.301495Z",
     "shell.execute_reply": "2023-07-27T18:50:29.300586Z"
    },
    "papermill": {
     "duration": 14530.966931,
     "end_time": "2023-07-27T18:50:29.303685",
     "exception": false,
     "start_time": "2023-07-27T14:48:18.336754",
     "status": "completed"
    },
    "tags": []
   },
   "outputs": [
    {
     "name": "stdout",
     "output_type": "stream",
     "text": [
      "========== Initialize Reset DataFrame Object ==========\n",
      "========== Resetting user ids and item ids in DataFrame ==========\n",
      "========== Initialize Reset DataFrame Object ==========\n",
      "========== Resetting item ids in DataFrame ==========\n",
      "Training CE Loss: 11.36473\n",
      "one epoch train time: 245.62027859687805\n",
      "++++++++++++++++++++ Valid Epoch 1 ++++++++++++++++++++\n",
      "Train/Recall@20 0.02119140625 0\n",
      "Train/NDCG@20 tensor(0.0098, device='cuda:0') 0\n",
      "Train/Recall@5 0.008872767857142857 0\n",
      "Train/NDCG@5 tensor(0.0064, device='cuda:0') 0\n",
      "one epoch val time: 1103.4935710430145\n",
      "one epoch train time: 1349.4527294635773\n",
      "Training CE Loss: 10.58857\n",
      "one epoch train time: 238.50347566604614\n",
      "++++++++++++++++++++ Valid Epoch 2 ++++++++++++++++++++\n",
      "Train/Recall@20 0.022823660714285713 1\n",
      "Train/NDCG@20 tensor(0.0109, device='cuda:0') 1\n",
      "Train/Recall@5 0.010309709821428571 1\n",
      "Train/NDCG@5 tensor(0.0074, device='cuda:0') 1\n",
      "one epoch val time: 1093.334266424179\n",
      "one epoch train time: 1332.2655813694\n",
      "Training CE Loss: 10.33188\n",
      "one epoch train time: 238.33260941505432\n",
      "++++++++++++++++++++ Valid Epoch 3 ++++++++++++++++++++\n",
      "Train/Recall@20 0.021819196428571427 2\n",
      "Train/NDCG@20 tensor(0.0109, device='cuda:0') 2\n",
      "Train/Recall@5 0.010281808035714286 2\n",
      "Train/NDCG@5 tensor(0.0078, device='cuda:0') 2\n",
      "one epoch val time: 1095.565608739853\n",
      "one epoch train time: 1334.3173789978027\n",
      "Training CE Loss: 10.01229\n",
      "one epoch train time: 239.3670358657837\n",
      "++++++++++++++++++++ Valid Epoch 4 ++++++++++++++++++++\n",
      "Train/Recall@20 0.01831752232142857 3\n",
      "Train/NDCG@20 tensor(0.0094, device='cuda:0') 3\n",
      "Train/Recall@5 0.008816964285714286 3\n",
      "Train/NDCG@5 tensor(0.0067, device='cuda:0') 3\n",
      "one epoch val time: 1091.9178767204285\n",
      "one epoch train time: 1331.2850115299225\n",
      "Training CE Loss: 9.43760\n",
      "one epoch train time: 238.31388545036316\n",
      "++++++++++++++++++++ Valid Epoch 5 ++++++++++++++++++++\n",
      "Train/Recall@20 0.015150669642857143 4\n",
      "Train/NDCG@20 tensor(0.0085, device='cuda:0') 4\n",
      "Train/Recall@5 0.008314732142857143 4\n",
      "Train/NDCG@5 tensor(0.0066, device='cuda:0') 4\n",
      "one epoch val time: 1093.7065143585205\n",
      "one epoch train time: 1332.0204977989197\n",
      "Training CE Loss: 7.88809\n",
      "one epoch train time: 238.83468794822693\n",
      "++++++++++++++++++++ Valid Epoch 6 ++++++++++++++++++++\n",
      "Train/Recall@20 0.015931919642857142 5\n",
      "Train/NDCG@20 tensor(0.0096, device='cuda:0') 5\n",
      "Train/Recall@5 0.009654017857142858 5\n",
      "Train/NDCG@5 tensor(0.0078, device='cuda:0') 5\n",
      "one epoch val time: 1094.4810287952423\n",
      "one epoch train time: 1333.7424280643463\n",
      "Training CE Loss: 5.39735\n",
      "one epoch train time: 238.31152439117432\n",
      "++++++++++++++++++++ Valid Epoch 7 ++++++++++++++++++++\n",
      "Train/Recall@20 0.01810825892857143 6\n",
      "Train/NDCG@20 tensor(0.0108, device='cuda:0') 6\n",
      "Train/Recall@5 0.01123046875 6\n",
      "Train/NDCG@5 tensor(0.0088, device='cuda:0') 6\n",
      "one epoch val time: 1091.1857137680054\n",
      "one epoch train time: 1329.9172191619873\n",
      "Training CE Loss: 3.83115\n",
      "one epoch train time: 238.52704763412476\n",
      "++++++++++++++++++++ Valid Epoch 8 ++++++++++++++++++++\n",
      "Train/Recall@20 0.0201171875 7\n",
      "Train/NDCG@20 tensor(0.0120, device='cuda:0') 7\n",
      "Train/Recall@5 0.012513950892857144 7\n",
      "Train/NDCG@5 tensor(0.0098, device='cuda:0') 7\n",
      "one epoch val time: 1091.9371206760406\n",
      "one epoch train time: 1330.85901761055\n",
      "Training CE Loss: 3.04836\n",
      "one epoch train time: 238.4393651485443\n",
      "++++++++++++++++++++ Valid Epoch 9 ++++++++++++++++++++\n",
      "Train/Recall@20 0.02144252232142857 8\n",
      "Train/NDCG@20 tensor(0.0127, device='cuda:0') 8\n",
      "Train/Recall@5 0.013239397321428571 8\n",
      "Train/NDCG@5 tensor(0.0104, device='cuda:0') 8\n",
      "one epoch val time: 1092.4446458816528\n",
      "one epoch train time: 1331.2765035629272\n",
      "Training CE Loss: 2.56333\n",
      "one epoch train time: 238.519118309021\n",
      "++++++++++++++++++++ Valid Epoch 10 ++++++++++++++++++++\n",
      "Train/Recall@20 0.022265625 9\n",
      "Train/NDCG@20 tensor(0.0130, device='cuda:0') 9\n",
      "Train/Recall@5 0.013588169642857143 9\n",
      "Train/NDCG@5 tensor(0.0105, device='cuda:0') 9\n",
      "one epoch val time: 1092.5438070297241\n",
      "one epoch train time: 1331.4571161270142\n",
      "train_time: 15729.362512111664\n",
      "val_time: 10940.61015343666\n"
     ]
    },
    {
     "data": {
      "image/png": "[encoded data removed]",
      "text/plain": [
       "<Figure size 640x480 with 1 Axes>"
      ]
     },
     "metadata": {},
     "output_type": "display_data"
    },
    {
     "data": {
      "text/plain": [
       "Peter4Coldstart(\n",
       "  (item_embedding): Embedding(199006, 128, padding_idx=0)\n",
       "  (residual_blocks): Sequential(\n",
       "    (0): ResidualBlock_b_2mp_parallel(\n",
       "      (conv1): Conv2d(128, 128, kernel_size=(1, 3), stride=(1, 1))\n",
       "      (ln1): LayerNorm((128,), eps=1e-08, elementwise_affine=True)\n",
       "      (conv2): Conv2d(128, 128, kernel_size=(1, 3), stride=(1, 1), dilation=(2, 2))\n",
       "      (ln2): LayerNorm((128,), eps=1e-08, elementwise_affine=True)\n",
       "    )\n",
       "    (1): ResidualBlock_b_2mp_parallel(\n",
       "      (conv1): Conv2d(128, 128, kernel_size=(1, 3), stride=(1, 1), dilation=(4, 4))\n",
       "      (ln1): LayerNorm((128,), eps=1e-08, elementwise_affine=True)\n",
       "      (conv2): Conv2d(128, 128, kernel_size=(1, 3), stride=(1, 1), dilation=(8, 8))\n",
       "      (ln2): LayerNorm((128,), eps=1e-08, elementwise_affine=True)\n",
       "    )\n",
       "    (2): ResidualBlock_b_2mp_parallel(\n",
       "      (conv1): Conv2d(128, 128, kernel_size=(1, 3), stride=(1, 1))\n",
       "      (ln1): LayerNorm((128,), eps=1e-08, elementwise_affine=True)\n",
       "      (conv2): Conv2d(128, 128, kernel_size=(1, 3), stride=(1, 1), dilation=(2, 2))\n",
       "      (ln2): LayerNorm((128,), eps=1e-08, elementwise_affine=True)\n",
       "    )\n",
       "    (3): ResidualBlock_b_2mp_parallel(\n",
       "      (conv1): Conv2d(128, 128, kernel_size=(1, 3), stride=(1, 1), dilation=(4, 4))\n",
       "      (ln1): LayerNorm((128,), eps=1e-08, elementwise_affine=True)\n",
       "      (conv2): Conv2d(128, 128, kernel_size=(1, 3), stride=(1, 1), dilation=(8, 8))\n",
       "      (ln2): LayerNorm((128,), eps=1e-08, elementwise_affine=True)\n",
       "    )\n",
       "  )\n",
       "  (final_layer): Linear(in_features=128, out_features=102093, bias=True)\n",
       ")"
      ]
     },
     "execution_count": 15,
     "metadata": {},
     "output_type": "execute_result"
    }
   ],
   "source": [
    "# define the paths to the target and source data files\n",
    "args.source_path = 'Tenrec/ratings_Beauty.csv' \n",
    "args.item_min = 2\n",
    "args.target_num = 1\n",
    "\n",
    "train_loader, val_loader, test_loader = process_dataV5(args)\n",
    "\n",
    "model = Peter4Coldstart(args)\n",
    "trainV2( model, train_loader, val_loader, writer, args) "
   ]
  },
  {
   "cell_type": "markdown",
   "id": "d0059567",
   "metadata": {},
   "source": [
    "#### **Observations**\n",
    "\n"
   ]
  },
  {
   "cell_type": "markdown",
   "id": "2ed221c4",
   "metadata": {},
   "source": [
    "- The model's performance improves over the course of the training process. This is evident from the decrease in the cross-entropy loss and the increase in the Recall@20, NDCG@20, Recall@5, and NDCG@5 metrics with each training epoch.\n",
    "\n",
    "- At the beginning of the training, the model's **cross-entropy loss** is  11.36473, indicating poor performance. However, as training progresses, the loss decreases significantly reaching 2.56333 after 10 epochs, suggesting that the model is becoming more accurate in its predictions.\n",
    "\n",
    "- Similarly, the Recall@20, NDCG@20, Recall@5, and NDCG@5 metrics show a consistent and steady improvement over the course of the training process. \n",
    "\n",
    "- The **Recall@20** and **Recall@5** values also improve with each epoch of training. At the start of training, the Recall@20 and Recall@5 values are 0.02119140625 and 0, respectively. However, after 10 epochs, the Recall@20 and Recall@5 values increase to 0.022265625 and 0.013588169642857143, respectively.\n",
    "\n",
    "- Similarly, the **NDCG@20** and **NDCG@5** values show an increase with each epoch of training. At the beginning of training, the NDCG@20 and NDCG@5 values are 0.0098 and 0, respectively. However, after 10 epochs, the NDCG@20 and NDCG@5 values increase to 0.0130 and 0.0105, respectively.\n",
    "\n",
    "- Overall, these results suggest that the model is learning to make better predictions and recommendations as it undergoes more training epochs."
   ]
  },
  {
   "cell_type": "markdown",
   "id": "09e9ceb0",
   "metadata": {},
   "source": [
    "### **Second way of preprocessing**"
   ]
  },
  {
   "cell_type": "code",
   "execution_count": 17,
   "id": "01c701fe",
   "metadata": {
    "execution": {
     "iopub.execute_input": "2023-07-27T18:50:29.367104Z",
     "iopub.status.busy": "2023-07-27T18:50:29.366581Z",
     "iopub.status.idle": "2023-07-27T23:04:41.405017Z",
     "shell.execute_reply": "2023-07-27T23:04:41.403852Z"
    },
    "papermill": {
     "duration": 15252.050985,
     "end_time": "2023-07-27T23:04:41.406962",
     "exception": false,
     "start_time": "2023-07-27T18:50:29.355977",
     "status": "completed"
    },
    "tags": []
   },
   "outputs": [
    {
     "name": "stdout",
     "output_type": "stream",
     "text": [
      "========== Initialize Reset DataFrame Object ==========\n",
      "========== Resetting user ids and item ids in DataFrame ==========\n",
      "========== Initialize Reset DataFrame Object ==========\n",
      "========== Resetting item ids in DataFrame ==========\n",
      "Training CE Loss: 11.49359\n",
      "one epoch train time: 229.13219165802002\n",
      "++++++++++++++++++++ Valid Epoch 1 ++++++++++++++++++++\n",
      "Train/Recall@20 0.019559151785714286 0\n",
      "Train/NDCG@20 tensor(0.0089, device='cuda:0') 0\n",
      "Train/Recall@5 0.007728794642857143 0\n",
      "Train/NDCG@5 tensor(0.0056, device='cuda:0') 0\n",
      "one epoch val time: 1185.3470268249512\n",
      "one epoch train time: 1414.907556295395\n",
      "Training CE Loss: 10.64514\n",
      "one epoch train time: 228.98488092422485\n",
      "++++++++++++++++++++ Valid Epoch 2 ++++++++++++++++++++\n",
      "Train/Recall@20 0.023646763392857144 1\n",
      "Train/NDCG@20 tensor(0.0121, device='cuda:0') 1\n",
      "Train/Recall@5 0.011579241071428572 1\n",
      "Train/NDCG@5 tensor(0.0087, device='cuda:0') 1\n",
      "one epoch val time: 1184.3888611793518\n",
      "one epoch train time: 1413.793487071991\n",
      "Training CE Loss: 10.34645\n",
      "one epoch train time: 228.9029347896576\n",
      "++++++++++++++++++++ Valid Epoch 3 ++++++++++++++++++++\n",
      "Train/Recall@20 0.0263671875 2\n",
      "Train/NDCG@20 tensor(0.0143, device='cuda:0') 2\n",
      "Train/Recall@5 0.014899553571428572 2\n",
      "Train/NDCG@5 tensor(0.0111, device='cuda:0') 2\n",
      "one epoch val time: 1178.8427686691284\n",
      "one epoch train time: 1408.185308456421\n",
      "Training CE Loss: 9.92451\n",
      "one epoch train time: 229.26816296577454\n",
      "++++++++++++++++++++ Valid Epoch 4 ++++++++++++++++++++\n",
      "Train/Recall@20 0.02709263392857143 3\n",
      "Train/NDCG@20 tensor(0.0158, device='cuda:0') 3\n",
      "Train/Recall@5 0.016476004464285713 3\n",
      "Train/NDCG@5 tensor(0.0128, device='cuda:0') 3\n",
      "one epoch val time: 1183.4090445041656\n",
      "one epoch train time: 1413.117019891739\n",
      "Training CE Loss: 8.79549\n",
      "one epoch train time: 229.21781373023987\n",
      "++++++++++++++++++++ Valid Epoch 5 ++++++++++++++++++++\n",
      "Train/Recall@20 0.02607421875 4\n",
      "Train/NDCG@20 tensor(0.0166, device='cuda:0') 4\n",
      "Train/Recall@5 0.017438616071428572 4\n",
      "Train/NDCG@5 tensor(0.0142, device='cuda:0') 4\n",
      "one epoch val time: 1184.946132183075\n",
      "one epoch train time: 1414.6232709884644\n",
      "Training CE Loss: 6.28543\n",
      "one epoch train time: 229.22552633285522\n",
      "++++++++++++++++++++ Valid Epoch 6 ++++++++++++++++++++\n",
      "Train/Recall@20 0.029031808035714285 5\n",
      "Train/NDCG@20 tensor(0.0183, device='cuda:0') 5\n",
      "Train/Recall@5 0.019656808035714287 5\n",
      "Train/NDCG@5 tensor(0.0157, device='cuda:0') 5\n",
      "one epoch val time: 1187.1150109767914\n",
      "one epoch train time: 1416.7894899845123\n",
      "Training CE Loss: 4.11590\n",
      "one epoch train time: 229.64363956451416\n",
      "++++++++++++++++++++ Valid Epoch 7 ++++++++++++++++++++\n",
      "Train/Recall@20 0.03071986607142857 6\n",
      "Train/NDCG@20 tensor(0.0194, device='cuda:0') 6\n",
      "Train/Recall@5 0.02094029017857143 6\n",
      "Train/NDCG@5 tensor(0.0167, device='cuda:0') 6\n",
      "one epoch val time: 1185.5241990089417\n",
      "one epoch train time: 1415.6010627746582\n",
      "Training CE Loss: 3.09485\n",
      "one epoch train time: 229.8339192867279\n",
      "++++++++++++++++++++ Valid Epoch 8 ++++++++++++++++++++\n",
      "Train/Recall@20 0.033426339285714285 7\n",
      "Train/NDCG@20 tensor(0.0211, device='cuda:0') 7\n",
      "Train/Recall@5 0.022809709821428572 7\n",
      "Train/NDCG@5 tensor(0.0181, device='cuda:0') 7\n",
      "one epoch val time: 1187.0604710578918\n",
      "one epoch train time: 1417.3593211174011\n",
      "Training CE Loss: 2.55025\n",
      "one epoch train time: 229.26371502876282\n",
      "++++++++++++++++++++ Valid Epoch 9 ++++++++++++++++++++\n",
      "Train/Recall@20 0.0341796875 8\n",
      "Train/NDCG@20 tensor(0.0214, device='cuda:0') 8\n",
      "Train/Recall@5 0.023367745535714284 8\n",
      "Train/NDCG@5 tensor(0.0183, device='cuda:0') 8\n",
      "one epoch val time: 1186.237859249115\n",
      "one epoch train time: 1415.9408583641052\n",
      "Training CE Loss: 2.17636\n",
      "one epoch train time: 229.50879454612732\n",
      "++++++++++++++++++++ Valid Epoch 10 ++++++++++++++++++++\n",
      "Train/Recall@20 0.0359375 9\n",
      "Train/NDCG@20 tensor(0.0224, device='cuda:0') 9\n",
      "Train/Recall@5 0.024637276785714285 9\n",
      "Train/NDCG@5 tensor(0.0193, device='cuda:0') 9\n",
      "one epoch val time: 1187.726422548294\n",
      "one epoch train time: 1417.6697101593018\n",
      "train_time: 16440.968663930893\n",
      "val_time: 11850.597796201706\n"
     ]
    },
    {
     "data": {
      "image/png": "[encoded data removed]",
      "text/plain": [
       "<Figure size 640x480 with 1 Axes>"
      ]
     },
     "metadata": {},
     "output_type": "display_data"
    },
    {
     "data": {
      "text/plain": [
       "Peter4Coldstart(\n",
       "  (item_embedding): Embedding(199006, 128, padding_idx=0)\n",
       "  (residual_blocks): Sequential(\n",
       "    (0): ResidualBlock_b_2mp_parallel(\n",
       "      (conv1): Conv2d(128, 128, kernel_size=(1, 3), stride=(1, 1))\n",
       "      (ln1): LayerNorm((128,), eps=1e-08, elementwise_affine=True)\n",
       "      (conv2): Conv2d(128, 128, kernel_size=(1, 3), stride=(1, 1), dilation=(2, 2))\n",
       "      (ln2): LayerNorm((128,), eps=1e-08, elementwise_affine=True)\n",
       "    )\n",
       "    (1): ResidualBlock_b_2mp_parallel(\n",
       "      (conv1): Conv2d(128, 128, kernel_size=(1, 3), stride=(1, 1), dilation=(4, 4))\n",
       "      (ln1): LayerNorm((128,), eps=1e-08, elementwise_affine=True)\n",
       "      (conv2): Conv2d(128, 128, kernel_size=(1, 3), stride=(1, 1), dilation=(8, 8))\n",
       "      (ln2): LayerNorm((128,), eps=1e-08, elementwise_affine=True)\n",
       "    )\n",
       "    (2): ResidualBlock_b_2mp_parallel(\n",
       "      (conv1): Conv2d(128, 128, kernel_size=(1, 3), stride=(1, 1))\n",
       "      (ln1): LayerNorm((128,), eps=1e-08, elementwise_affine=True)\n",
       "      (conv2): Conv2d(128, 128, kernel_size=(1, 3), stride=(1, 1), dilation=(2, 2))\n",
       "      (ln2): LayerNorm((128,), eps=1e-08, elementwise_affine=True)\n",
       "    )\n",
       "    (3): ResidualBlock_b_2mp_parallel(\n",
       "      (conv1): Conv2d(128, 128, kernel_size=(1, 3), stride=(1, 1), dilation=(4, 4))\n",
       "      (ln1): LayerNorm((128,), eps=1e-08, elementwise_affine=True)\n",
       "      (conv2): Conv2d(128, 128, kernel_size=(1, 3), stride=(1, 1), dilation=(8, 8))\n",
       "      (ln2): LayerNorm((128,), eps=1e-08, elementwise_affine=True)\n",
       "    )\n",
       "  )\n",
       "  (final_layer): Linear(in_features=128, out_features=110676, bias=True)\n",
       ")"
      ]
     },
     "execution_count": 17,
     "metadata": {},
     "output_type": "execute_result"
    }
   ],
   "source": [
    "# define the paths to the target and source data files\n",
    "args.source_path = 'Tenrec/ratings_Beauty.csv' \n",
    "args.item_min = 2\n",
    "args.target_num = 1\n",
    "\n",
    "train_loader, val_loader, test_loader = process_dataV6(args)\n",
    "\n",
    "model = Peter4Coldstart(args)\n",
    "trainV2( model, train_loader, val_loader, writer, args) "
   ]
  },
  {
   "cell_type": "markdown",
   "id": "bc69fd21",
   "metadata": {},
   "source": [
    "#### **Observations**\n",
    "\n"
   ]
  },
  {
   "cell_type": "markdown",
   "id": "42b04145",
   "metadata": {},
   "source": [
    "- During the training process, the model's performance improves as indicated by the reduction in cross-entropy loss and the increase in recall and NDCG metrics. \n",
    "\n",
    "- At the beginning of training, the model has a high **cross-entropy loss** of 11.49359, meaning that its predicted probability distributions differ significantly from the actual distributions. However, as training progresses, the loss decreases considerably, reaching a minimum of 2.17636 after 10 epochs.\n",
    "\n",
    "- The model's recall and NDCG values for the top 20 and top 5 recommendations also increase steadily with each epoch of training. \n",
    "\n",
    "- At the start of training, the **recall** values for the top 20 and top 5 recommendations are 0.019559 and 0.007729, respectively, but they improve to 0.035938 and 0.024637 after 10 epochs. \n",
    "\n",
    "- Similarly, the **NDCG** values for the top 20 and top 5 recommendations start at 0.0089 and 0.0056, respectively, but increase to 0.0224 and 0.0193 after 10 epochs.\n",
    "\n",
    "- Taken together, these findings suggest that the model is becoming increasingly proficient at making predictions and recommendations as it undergoes additional training epochs."
   ]
  },
  {
   "cell_type": "markdown",
   "id": "c92d5ace",
   "metadata": {},
   "source": [
    "## **Best Model**"
   ]
  },
  {
   "cell_type": "markdown",
   "id": "e3454d5a",
   "metadata": {},
   "source": [
    "**For the first way of preprocessing**\n",
    "\n",
    "Based on the results of metrics, CE Loss, and time, it seems that **Epoch 9** is the best model:\n",
    "\n",
    "- **Recall@20** is 0.02144252232142857 and **NDCG@20** is tensor(0.0127, device='cuda:0') , which is one of the highest performances achieved.\n",
    "\n",
    "- **Recall@5** is 0.013239397321428571 and **NDCG@5** is tensor(0.0104, device='cuda:0'), which is one of the highest performances achieved.\n",
    "\n",
    "- **Training CE Loss** is 2.56333, which is one of the lowest losses achieved.\n",
    "\n",
    "- **one epoch train time** is 238.519118309021, which is خne of the shortest durations achieved.\n",
    "\n",
    "- **Comparing to epoch 10**, it has slightly higher Recall@20, Recall@5, NDCG@20, and NDCG@5 values, but it has an even worse one epoch train time. So, I would select epoch 9 as the best model.\n",
    "\n",
    "- This indicates that **Epoch 9** has the best performance in terms of the Recall and NDCG metrics, CE Loss, and train time. Which appears to be most important for this recommendation model.\n"
   ]
  },
  {
   "cell_type": "markdown",
   "id": "a0643899",
   "metadata": {},
   "source": [
    "**For the Second way of preprocessing**\n",
    "\n",
    "Based on the results of metrics, CE Loss, and time, it seems that **Epoch 8** is the best model:\n",
    "\n",
    "- **Recall@20** is 0.033426339285714285 and **NDCG@20** is tensor(0.0211, device='cuda:0'), which is one of the highest performances achieved.\n",
    "\n",
    "- **Recall@5** is 0.022809709821428572 and **NDCG@5** is tensor(0.0181, device='cuda:0'), which is one of the highest performances achieved.\n",
    "\n",
    "- **Training CE Loss** is 2.55025, one of the lowest losses achieved.\n",
    "\n",
    "- **one epoch train time** is 238.519118309021, which is one of the shortest durations achieved.\n",
    "\n",
    "- **Comparing to epoch 9 and 10**, they have slightly higher Recall@20, Recall@5, NDCG@20, and NDCG@5 values, but they have an even worse one epoch train time. So, I would select epoch 8 as the best model.\n",
    "\n",
    "- In summary, based on the goal of maximizing Recall and NDCG and minimizing CE Loss and train time, **Epoch 8** shows the best model according to these results. "
   ]
  },
  {
   "cell_type": "markdown",
   "id": "1cc9b147",
   "metadata": {},
   "source": []
  }
 ],
 "metadata": {
  "kernelspec": {
   "display_name": "Python 3 (ipykernel)",
   "language": "python",
   "name": "python3"
  },
  "language_info": {
   "codemirror_mode": {
    "name": "ipython",
    "version": 3
   },
   "file_extension": ".py",
   "mimetype": "text/x-python",
   "name": "python",
   "nbconvert_exporter": "python",
   "pygments_lexer": "ipython3",
   "version": "3.9.16"
  },
  "papermill": {
   "default_parameters": {},
   "duration": 29812.048531,
   "end_time": "2023-07-27T23:04:44.422159",
   "environment_variables": {},
   "exception": null,
   "input_path": "__notebook__.ipynb",
   "output_path": "__notebook__.ipynb",
   "parameters": {},
   "start_time": "2023-07-27T14:47:52.373628",
   "version": "2.4.0"
  }
 },
 "nbformat": 4,
 "nbformat_minor": 5
}
